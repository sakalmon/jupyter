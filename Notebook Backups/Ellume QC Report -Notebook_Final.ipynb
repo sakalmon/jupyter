{
 "cells": [
  {
   "cell_type": "markdown",
   "metadata": {},
   "source": [
    "# QC Batch Report\n",
    "This notebook creates a QC batch report for test results. It ties into the **Test Monitor Service** for retrieving filtered test results, the **Notebook Execution Service** for running outside of Jupyterhub, and the **Test Monitor Reports page** at #testmonitor/reports for displaying results.\n",
    "\n",
    "The parameters and output use a schema recognized by the Test Monitor Reports page, which can be implemented by various report types. "
   ]
  },
  {
   "cell_type": "markdown",
   "metadata": {},
   "source": [
    "### Imports\n",
    "Import Python modules for executing the notebook. Pandas is used for building and handling dataframes. Scrapbook is used for recording data for the Notebook Execution Service. The SystemLink Test Monitor Client provides access to test result data for processing."
   ]
  },
  {
   "cell_type": "code",
   "execution_count": 1,
   "metadata": {},
   "outputs": [],
   "source": [
    "import copy\n",
    "from datetime import datetime\n",
    "import pandas as pd\n",
    "import scrapbook as sb\n",
    "from dateutil import tz\n",
    "import systemlink.clients.nifile as file_ingestion\n",
    "import systemlink.clients.nitestmonitor as testmon\n",
    "import time\n",
    "import matplotlib.pyplot as plt\n",
    "import re\n",
    "import json\n",
    "import numpy as np"
   ]
  },
  {
   "cell_type": "markdown",
   "metadata": {},
   "source": [
    "### Parameters\n",
    "- `group_by`: The dimension along which to reduce; what each bar in the output graph represents  \n",
    "  Options: Day, System, Test Program, Operator, Part Number  \n",
    "  Default: Day\n",
    "- `results_filter`: Dynamic Linq query filter for test results from the Test Monitor Service  \n",
    "  Options: Any valid Test Monitor Results Dynamic Linq filter  \n",
    "  Default: `'startedWithin <= \"30.0:0:0\"'`\n",
    "\n",
    "Parameters are also listed in the metadata for the parameters cell, along with their default values. The Notebook Execution services uses that metadata to pass parameters from the Test Monitor Reports page to this notebook. Available `group_by` options are listed in the metadata as well; the Test Monitor Reports page uses these to validate inputs sent to the notebook.\n",
    "\n",
    "To see the metadata, select the code cell and click the wrench icon in the far left panel."
   ]
  },
  {
   "cell_type": "code",
   "execution_count": 3,
   "metadata": {
    "papermill": {
     "parameters": {
      "group_by": "Day",
      "products_filter": "",
      "results_filter": "startedWithin <= \"30.0:0:0\""
     }
    },
    "systemlink": {
     "available_group_by": [
      "System"
     ],
     "namespaces": [
      "ni-testmanagement"
     ],
     "products_filter": [],
     "results_filter": [
      {
       "queryOperandUnit": "DAYS",
       "queryOperandValue": 30,
       "queryOperator": "LESS_THAN_OR_EQUAL",
       "queryOperatorName": "startedWithin"
      }
     ]
    },
    "tags": [
     "parameters"
    ]
   },
   "outputs": [],
   "source": [
    "#results_filter = ''\n",
    "results_filter = 'startedWithin <= \"100.0:0:0\" && programName.Contains(\"QC Wet\") && properties[\"Lot Number\"] = \"20344-1\"'\n",
    "products_filter = ''\n",
    "group_by = 'System'\n",
    "Lot_Number = ''"
   ]
  },
  {
   "cell_type": "markdown",
   "metadata": {},
   "source": [
    "### Mapping from grouping options to Test Monitor terminology\n",
    "Translate the grouping options shown in the Test Monitor Reports page to keywords recognized by the Test Monitor API.\n",
    "\n",
    "If I want to add group by custom property for example `Location` than we have to add a line of code as `'key': 'value pair'` `'('Location' : 'Location')'` value variable should match how it display in Test Monitor in `'group_map dict'`. "
   ]
  },
  {
   "cell_type": "code",
   "execution_count": 4,
   "metadata": {},
   "outputs": [],
   "source": [
    "groups_map = {\n",
    "    'Day': 'started_at',\n",
    "    'System': 'host_name',\n",
    "    'Test Program': 'program_name',\n",
    "    'Operator': 'operator',\n",
    "    'Part Number': 'part_number',\n",
    "    'Workspace': 'workspace'\n",
    "}\n",
    "grouping = groups_map[group_by]"
   ]
  },
  {
   "cell_type": "markdown",
   "metadata": {},
   "source": [
    "### Create Test Monitor client\n",
    "Establish a connection to SystemLink over HTTP."
   ]
  },
  {
   "cell_type": "code",
   "execution_count": 5,
   "metadata": {},
   "outputs": [],
   "source": [
    "# It just gets user login info automatically , not to worry about user name and password. Works well with User management auth\n",
    "api_client = testmon.ApiClient()\n",
    "results_api = testmon.ResultsApi(api_client)\n",
    "steps_api = testmon.StepsApi(api_client)"
   ]
  },
  {
   "cell_type": "markdown",
   "metadata": {},
   "source": [
    "### Query for results\n",
    "Query the Test Monitor Service for results matching the `results_filter` parameter."
   ]
  },
  {
   "cell_type": "code",
   "execution_count": 6,
   "metadata": {},
   "outputs": [],
   "source": [
    "# This just creates object so that will be ready to send or use later below \n",
    "results_query = testmon.ResultsAdvancedQuery(\n",
    "    results_filter, order_by=testmon.ResultField.STARTED_AT, take=1000)\n",
    "results = []\n",
    "# sending query and data comes back in JSoN, but python interprets data and display in good format depends on lib we use\n",
    "response = await results_api.query_results_v2(post_body=results_query)\n",
    "# response.results is nothing but fetching result values from response variable we have \n",
    "\n",
    "while response.continuation_token:\n",
    "    results = results + response.results\n",
    "    results_query.continuation_token = response.continuation_token\n",
    "    response = await results_api.query_results_v2(post_body=results_query)"
   ]
  },
  {
   "cell_type": "code",
   "execution_count": 7,
   "metadata": {},
   "outputs": [
    {
     "data": {
      "text/plain": [
       "18"
      ]
     },
     "metadata": {},
     "output_type": "display_data"
    }
   ],
   "source": [
    "results_list = [result.to_dict() for result in results]\n",
    "serial_number = []\n",
    "result_id = []\n",
    "for result in results_list:\n",
    "        serial_number.append(result['serial_number'])  \n",
    "        result_id.append(result['id'])\n",
    "df_serial = {'Serial Number' : serial_number}\n",
    "df_result_id = {'Result Id' : result_id}\n",
    "display(len(serial_number))"
   ]
  },
  {
   "cell_type": "markdown",
   "metadata": {},
   "source": [
    "### Query for test step"
   ]
  },
  {
   "cell_type": "code",
   "execution_count": 8,
   "metadata": {},
   "outputs": [],
   "source": [
    "steps = []\n",
    "steps_list=[]\n",
    "start_time = datetime.now()\n",
    "steps_filter = ''\n",
    "for index,result in enumerate (result_id):\n",
    "    if steps_filter == '':\n",
    "        steps_filter += 'resultId == \"' + result_id[index] + '\"'\n",
    "    else:\n",
    "        steps_filter += ' || resultId == \"' + result_id[index] + '\"'\n",
    "steps_filter = 'startedWithin <= \"30.0:0:0\" && (' + steps_filter + ')'"
   ]
  },
  {
   "cell_type": "code",
   "execution_count": 9,
   "metadata": {},
   "outputs": [
    {
     "data": {
      "text/plain": [
       "'Total Time: 0.093002'"
      ]
     },
     "metadata": {},
     "output_type": "display_data"
    }
   ],
   "source": [
    "start_time = datetime.now()\n",
    "steps_query = testmon.StepsAdvancedQuery(steps_filter , take=5000)\n",
    "steps_results = []\n",
    "response = await steps_api.query_steps_v2(post_body=steps_query)\n",
    "while response.continuation_token:\n",
    "    steps_results = steps_results + response.steps\n",
    "    steps_query.continuation_token = response.continuation_token\n",
    "    response = await steps_api.query_steps_v2(post_body=steps_query)\n",
    "steps_list = [step.to_dict() for step in steps_results]   \n",
    "end_time = datetime.now()\n",
    "total_time =(end_time - start_time).total_seconds()\n",
    "display('Total Time: {}'.format(total_time))"
   ]
  },
  {
   "cell_type": "code",
   "execution_count": 10,
   "metadata": {},
   "outputs": [
    {
     "ename": "KeyError",
     "evalue": "'result_id'",
     "output_type": "error",
     "traceback": [
      "\u001b[1;31m---------------------------------------------------------------------------\u001b[0m",
      "\u001b[1;31mKeyError\u001b[0m                                  Traceback (most recent call last)",
      "\u001b[1;32mC:\\Program Files\\National Instruments\\Shared\\Skyline\\Python\\3.8\\lib\\site-packages\\pandas\\core\\indexes\\base.py\u001b[0m in \u001b[0;36mget_loc\u001b[1;34m(self, key, method, tolerance)\u001b[0m\n\u001b[0;32m   2645\u001b[0m             \u001b[1;32mtry\u001b[0m\u001b[1;33m:\u001b[0m\u001b[1;33m\u001b[0m\u001b[1;33m\u001b[0m\u001b[0m\n\u001b[1;32m-> 2646\u001b[1;33m                 \u001b[1;32mreturn\u001b[0m \u001b[0mself\u001b[0m\u001b[1;33m.\u001b[0m\u001b[0m_engine\u001b[0m\u001b[1;33m.\u001b[0m\u001b[0mget_loc\u001b[0m\u001b[1;33m(\u001b[0m\u001b[0mkey\u001b[0m\u001b[1;33m)\u001b[0m\u001b[1;33m\u001b[0m\u001b[1;33m\u001b[0m\u001b[0m\n\u001b[0m\u001b[0;32m   2647\u001b[0m             \u001b[1;32mexcept\u001b[0m \u001b[0mKeyError\u001b[0m\u001b[1;33m:\u001b[0m\u001b[1;33m\u001b[0m\u001b[1;33m\u001b[0m\u001b[0m\n",
      "\u001b[1;32mpandas\\_libs\\index.pyx\u001b[0m in \u001b[0;36mpandas._libs.index.IndexEngine.get_loc\u001b[1;34m()\u001b[0m\n",
      "\u001b[1;32mpandas\\_libs\\index.pyx\u001b[0m in \u001b[0;36mpandas._libs.index.IndexEngine.get_loc\u001b[1;34m()\u001b[0m\n",
      "\u001b[1;32mpandas\\_libs\\hashtable_class_helper.pxi\u001b[0m in \u001b[0;36mpandas._libs.hashtable.PyObjectHashTable.get_item\u001b[1;34m()\u001b[0m\n",
      "\u001b[1;32mpandas\\_libs\\hashtable_class_helper.pxi\u001b[0m in \u001b[0;36mpandas._libs.hashtable.PyObjectHashTable.get_item\u001b[1;34m()\u001b[0m\n",
      "\u001b[1;31mKeyError\u001b[0m: 'result_id'",
      "\nDuring handling of the above exception, another exception occurred:\n",
      "\u001b[1;31mKeyError\u001b[0m                                  Traceback (most recent call last)",
      "\u001b[1;32m<ipython-input-10-b817007072a2>\u001b[0m in \u001b[0;36m<module>\u001b[1;34m\u001b[0m\n\u001b[0;32m      3\u001b[0m \u001b[1;33m\u001b[0m\u001b[0m\n\u001b[0;32m      4\u001b[0m \u001b[1;32mfor\u001b[0m \u001b[0mresult\u001b[0m  \u001b[1;32min\u001b[0m \u001b[0mresult_id\u001b[0m\u001b[1;33m:\u001b[0m\u001b[1;33m\u001b[0m\u001b[1;33m\u001b[0m\u001b[0m\n\u001b[1;32m----> 5\u001b[1;33m     \u001b[0mdf_single_result\u001b[0m \u001b[1;33m=\u001b[0m \u001b[0mdf_steps\u001b[0m\u001b[1;33m[\u001b[0m\u001b[0mdf_steps\u001b[0m\u001b[1;33m[\u001b[0m\u001b[1;34m'result_id'\u001b[0m\u001b[1;33m]\u001b[0m \u001b[1;33m==\u001b[0m \u001b[0mresult\u001b[0m\u001b[1;33m]\u001b[0m\u001b[1;33m.\u001b[0m\u001b[0mcopy\u001b[0m\u001b[1;33m(\u001b[0m\u001b[1;33m)\u001b[0m\u001b[1;33m\u001b[0m\u001b[1;33m\u001b[0m\u001b[0m\n\u001b[0m\u001b[0;32m      6\u001b[0m     \u001b[0mtemp\u001b[0m \u001b[1;33m=\u001b[0m \u001b[0mpd\u001b[0m\u001b[1;33m.\u001b[0m\u001b[0mjson_normalize\u001b[0m\u001b[1;33m(\u001b[0m\u001b[0mdf_single_result\u001b[0m\u001b[1;33m[\u001b[0m\u001b[1;34m\"status\"\u001b[0m\u001b[1;33m]\u001b[0m\u001b[1;33m)\u001b[0m\u001b[1;33m\u001b[0m\u001b[1;33m\u001b[0m\u001b[0m\n\u001b[0;32m      7\u001b[0m     \u001b[0mdf_single_result\u001b[0m\u001b[1;33m[\u001b[0m\u001b[1;34m'status'\u001b[0m\u001b[1;33m]\u001b[0m \u001b[1;33m=\u001b[0m \u001b[0mtemp\u001b[0m\u001b[1;33m[\u001b[0m\u001b[1;34m'status_type'\u001b[0m\u001b[1;33m]\u001b[0m\u001b[1;33m.\u001b[0m\u001b[0mto_list\u001b[0m\u001b[1;33m(\u001b[0m\u001b[1;33m)\u001b[0m\u001b[1;33m\u001b[0m\u001b[1;33m\u001b[0m\u001b[0m\n",
      "\u001b[1;32mC:\\Program Files\\National Instruments\\Shared\\Skyline\\Python\\3.8\\lib\\site-packages\\pandas\\core\\frame.py\u001b[0m in \u001b[0;36m__getitem__\u001b[1;34m(self, key)\u001b[0m\n\u001b[0;32m   2798\u001b[0m             \u001b[1;32mif\u001b[0m \u001b[0mself\u001b[0m\u001b[1;33m.\u001b[0m\u001b[0mcolumns\u001b[0m\u001b[1;33m.\u001b[0m\u001b[0mnlevels\u001b[0m \u001b[1;33m>\u001b[0m \u001b[1;36m1\u001b[0m\u001b[1;33m:\u001b[0m\u001b[1;33m\u001b[0m\u001b[1;33m\u001b[0m\u001b[0m\n\u001b[0;32m   2799\u001b[0m                 \u001b[1;32mreturn\u001b[0m \u001b[0mself\u001b[0m\u001b[1;33m.\u001b[0m\u001b[0m_getitem_multilevel\u001b[0m\u001b[1;33m(\u001b[0m\u001b[0mkey\u001b[0m\u001b[1;33m)\u001b[0m\u001b[1;33m\u001b[0m\u001b[1;33m\u001b[0m\u001b[0m\n\u001b[1;32m-> 2800\u001b[1;33m             \u001b[0mindexer\u001b[0m \u001b[1;33m=\u001b[0m \u001b[0mself\u001b[0m\u001b[1;33m.\u001b[0m\u001b[0mcolumns\u001b[0m\u001b[1;33m.\u001b[0m\u001b[0mget_loc\u001b[0m\u001b[1;33m(\u001b[0m\u001b[0mkey\u001b[0m\u001b[1;33m)\u001b[0m\u001b[1;33m\u001b[0m\u001b[1;33m\u001b[0m\u001b[0m\n\u001b[0m\u001b[0;32m   2801\u001b[0m             \u001b[1;32mif\u001b[0m \u001b[0mis_integer\u001b[0m\u001b[1;33m(\u001b[0m\u001b[0mindexer\u001b[0m\u001b[1;33m)\u001b[0m\u001b[1;33m:\u001b[0m\u001b[1;33m\u001b[0m\u001b[1;33m\u001b[0m\u001b[0m\n\u001b[0;32m   2802\u001b[0m                 \u001b[0mindexer\u001b[0m \u001b[1;33m=\u001b[0m \u001b[1;33m[\u001b[0m\u001b[0mindexer\u001b[0m\u001b[1;33m]\u001b[0m\u001b[1;33m\u001b[0m\u001b[1;33m\u001b[0m\u001b[0m\n",
      "\u001b[1;32mC:\\Program Files\\National Instruments\\Shared\\Skyline\\Python\\3.8\\lib\\site-packages\\pandas\\core\\indexes\\base.py\u001b[0m in \u001b[0;36mget_loc\u001b[1;34m(self, key, method, tolerance)\u001b[0m\n\u001b[0;32m   2646\u001b[0m                 \u001b[1;32mreturn\u001b[0m \u001b[0mself\u001b[0m\u001b[1;33m.\u001b[0m\u001b[0m_engine\u001b[0m\u001b[1;33m.\u001b[0m\u001b[0mget_loc\u001b[0m\u001b[1;33m(\u001b[0m\u001b[0mkey\u001b[0m\u001b[1;33m)\u001b[0m\u001b[1;33m\u001b[0m\u001b[1;33m\u001b[0m\u001b[0m\n\u001b[0;32m   2647\u001b[0m             \u001b[1;32mexcept\u001b[0m \u001b[0mKeyError\u001b[0m\u001b[1;33m:\u001b[0m\u001b[1;33m\u001b[0m\u001b[1;33m\u001b[0m\u001b[0m\n\u001b[1;32m-> 2648\u001b[1;33m                 \u001b[1;32mreturn\u001b[0m \u001b[0mself\u001b[0m\u001b[1;33m.\u001b[0m\u001b[0m_engine\u001b[0m\u001b[1;33m.\u001b[0m\u001b[0mget_loc\u001b[0m\u001b[1;33m(\u001b[0m\u001b[0mself\u001b[0m\u001b[1;33m.\u001b[0m\u001b[0m_maybe_cast_indexer\u001b[0m\u001b[1;33m(\u001b[0m\u001b[0mkey\u001b[0m\u001b[1;33m)\u001b[0m\u001b[1;33m)\u001b[0m\u001b[1;33m\u001b[0m\u001b[1;33m\u001b[0m\u001b[0m\n\u001b[0m\u001b[0;32m   2649\u001b[0m         \u001b[0mindexer\u001b[0m \u001b[1;33m=\u001b[0m \u001b[0mself\u001b[0m\u001b[1;33m.\u001b[0m\u001b[0mget_indexer\u001b[0m\u001b[1;33m(\u001b[0m\u001b[1;33m[\u001b[0m\u001b[0mkey\u001b[0m\u001b[1;33m]\u001b[0m\u001b[1;33m,\u001b[0m \u001b[0mmethod\u001b[0m\u001b[1;33m=\u001b[0m\u001b[0mmethod\u001b[0m\u001b[1;33m,\u001b[0m \u001b[0mtolerance\u001b[0m\u001b[1;33m=\u001b[0m\u001b[0mtolerance\u001b[0m\u001b[1;33m)\u001b[0m\u001b[1;33m\u001b[0m\u001b[1;33m\u001b[0m\u001b[0m\n\u001b[0;32m   2650\u001b[0m         \u001b[1;32mif\u001b[0m \u001b[0mindexer\u001b[0m\u001b[1;33m.\u001b[0m\u001b[0mndim\u001b[0m \u001b[1;33m>\u001b[0m \u001b[1;36m1\u001b[0m \u001b[1;32mor\u001b[0m \u001b[0mindexer\u001b[0m\u001b[1;33m.\u001b[0m\u001b[0msize\u001b[0m \u001b[1;33m>\u001b[0m \u001b[1;36m1\u001b[0m\u001b[1;33m:\u001b[0m\u001b[1;33m\u001b[0m\u001b[1;33m\u001b[0m\u001b[0m\n",
      "\u001b[1;32mpandas\\_libs\\index.pyx\u001b[0m in \u001b[0;36mpandas._libs.index.IndexEngine.get_loc\u001b[1;34m()\u001b[0m\n",
      "\u001b[1;32mpandas\\_libs\\index.pyx\u001b[0m in \u001b[0;36mpandas._libs.index.IndexEngine.get_loc\u001b[1;34m()\u001b[0m\n",
      "\u001b[1;32mpandas\\_libs\\hashtable_class_helper.pxi\u001b[0m in \u001b[0;36mpandas._libs.hashtable.PyObjectHashTable.get_item\u001b[1;34m()\u001b[0m\n",
      "\u001b[1;32mpandas\\_libs\\hashtable_class_helper.pxi\u001b[0m in \u001b[0;36mpandas._libs.hashtable.PyObjectHashTable.get_item\u001b[1;34m()\u001b[0m\n",
      "\u001b[1;31mKeyError\u001b[0m: 'result_id'"
     ]
    }
   ],
   "source": [
    "df_steps = pd.DataFrame.from_records(steps_list)\n",
    "modified_steps_list = []\n",
    "\n",
    "for result  in result_id:\n",
    "    df_single_result = df_steps[df_steps['result_id'] == result].copy()\n",
    "    temp = pd.json_normalize(df_single_result[\"status\"])\n",
    "    df_single_result['status'] = temp['status_type'].to_list()\n",
    "    df_single_result['name'] = df_single_result['data'].apply(lambda x: None if pd.isna(x) else None if len(x['parameters']) == 0 else x['parameters'][0]['name'])\n",
    "    df_single_result['measurement'] = df_single_result['data'].apply(lambda x: None if pd.isna(x) else None if len(x['parameters']) == 0 else x['parameters'][0]['measurement'])\n",
    "    df_single_result['lowLimit'] = df_single_result['data'].apply(lambda x: None if pd.isna(x) else None if len(x['parameters']) == 0 else x['parameters'][0]['lowLimit'])\n",
    "    df_single_result['highLimit'] = df_single_result['data'].apply(lambda x: None if pd.isna(x) else None if len(x['parameters']) == 0 else x['parameters'][0]['highLimit'])\n",
    "    modified_steps_list.append(df_single_result)\n",
    "   "
   ]
  },
  {
   "cell_type": "markdown",
   "metadata": {},
   "source": [
    "## For result\n",
    "### Get group names\n",
    "Collect the group name for each result based on the `group_by` parameter."
   ]
  },
  {
   "cell_type": "code",
   "execution_count": 10,
   "metadata": {},
   "outputs": [],
   "source": [
    "# group by is nothing but grouping with respect to key ( for exg operator) than it groups data which is filtered with respect to result filter , not on whol dat ain tets monitor\n",
    "group_names = []\n",
    "# result is like picking each element from result list and passing into for loop\n",
    "for result in results_list:\n",
    "        if grouping in result:\n",
    "            group_names.append(result[grouping])"
   ]
  },
  {
   "cell_type": "markdown",
   "metadata": {},
   "source": [
    "### Create pandas dataframe\n",
    "Put the data into a dataframe whose columns are test result id, status, and group name."
   ]
  },
  {
   "cell_type": "code",
   "execution_count": 12,
   "metadata": {},
   "outputs": [
    {
     "ename": "NameError",
     "evalue": "name 'group_names' is not defined",
     "output_type": "error",
     "traceback": [
      "\u001b[1;31m---------------------------------------------------------------------------\u001b[0m",
      "\u001b[1;31mNameError\u001b[0m                                 Traceback (most recent call last)",
      "\u001b[1;32m<ipython-input-12-6bda7aad027c>\u001b[0m in \u001b[0;36m<module>\u001b[1;34m\u001b[0m\n\u001b[0;32m      8\u001b[0m     \u001b[1;34m'started_at'\u001b[0m\u001b[1;33m:\u001b[0m \u001b[1;33m[\u001b[0m\u001b[0mresult\u001b[0m\u001b[1;33m[\u001b[0m\u001b[1;34m'started_at'\u001b[0m\u001b[1;33m]\u001b[0m \u001b[1;32mfor\u001b[0m \u001b[0mresult\u001b[0m \u001b[1;32min\u001b[0m \u001b[0mresults_list\u001b[0m\u001b[1;33m]\u001b[0m\u001b[1;33m,\u001b[0m\u001b[1;33m\u001b[0m\u001b[1;33m\u001b[0m\u001b[0m\n\u001b[0;32m      9\u001b[0m     \u001b[1;34m'properties'\u001b[0m\u001b[1;33m:\u001b[0m \u001b[1;33m[\u001b[0m\u001b[0mresult\u001b[0m\u001b[1;33m[\u001b[0m\u001b[1;34m'properties'\u001b[0m\u001b[1;33m]\u001b[0m \u001b[1;32mfor\u001b[0m \u001b[0mresult\u001b[0m \u001b[1;32min\u001b[0m \u001b[0mresults_list\u001b[0m\u001b[1;33m]\u001b[0m\u001b[1;33m,\u001b[0m\u001b[1;33m\u001b[0m\u001b[1;33m\u001b[0m\u001b[0m\n\u001b[1;32m---> 10\u001b[1;33m     \u001b[0mgrouping\u001b[0m\u001b[1;33m:\u001b[0m \u001b[0mgroup_names\u001b[0m\u001b[1;33m\u001b[0m\u001b[1;33m\u001b[0m\u001b[0m\n\u001b[0m\u001b[0;32m     11\u001b[0m }\n\u001b[0;32m     12\u001b[0m \u001b[1;33m\u001b[0m\u001b[0m\n",
      "\u001b[1;31mNameError\u001b[0m: name 'group_names' is not defined"
     ]
    }
   ],
   "source": [
    "formatted_results = {\n",
    "    'id': [result['id'] for result in results_list],\n",
    "    'Serial Number': [result['serial_number'] for result in results_list],\n",
    "    'Product Number': [result['part_number'] for result in results_list],\n",
    "    'status': [result['status']['status_type'] if result['status'] else None for result in results_list],\n",
    "    'Operator': [result['operator'] for result in results_list],\n",
    "    'program_name': [result['program_name'] for result in results_list],\n",
    "    'started_at': [result['started_at'] for result in results_list],\n",
    "    'properties': [result['properties'] for result in results_list],\n",
    "    grouping: group_names\n",
    "}\n",
    "\n",
    "df_results = pd.DataFrame.from_dict(formatted_results)\n",
    "properties = pd.json_normalize(df_results[\"properties\"])\n",
    "df_results = pd.concat([df_results.drop([\"properties\"], axis = 1), properties],axis =1 )\n",
    "#axis = 1 , make everything horizontal\n",
    "\n",
    "#convert serial name as into header\n",
    "df_results = df_results.transpose()\n",
    "df_results = df_results.rename(columns = pd.Series(serial_number))\n",
    "df_results = df_results.transpose()\n",
    "\n",
    "#remove /t and /n from the 'Aim of Testing'\n",
    "aim=[]\n",
    "for index,result in enumerate (result_id):\n",
    "    s=df_results['Aim of Testing'].values[index]\n",
    "    s_new = re.sub('\\s+', ' ', s)\n",
    "    aim.append(s_new)\n",
    "df_aim = pd.DataFrame(aim, columns=['Aim of Testing'])\n",
    "df_aim = df_aim.T.rename(columns = pd.Series(serial_number))\n",
    "df_results = pd.concat([df_results.drop([\"Aim of Testing\"], axis = 1), df_aim.T],axis =1 )\n",
    "\n",
    "#convert UTC timezone to local timezone\n",
    "to_zone = tz.tzlocal()\n",
    "utc = df_results['started_at']\n",
    "def astimezone(x):\n",
    "    return x.astimezone(to_zone)\n",
    "# Convert time zone\n",
    "central = utc.apply(astimezone)\n",
    "df_results = pd.concat([df_results.drop(['started_at'],axis=1), central],axis=1)"
   ]
  },
  {
   "cell_type": "markdown",
   "metadata": {},
   "source": [
    "## For Step List"
   ]
  },
  {
   "cell_type": "markdown",
   "metadata": {},
   "source": [
    "#### Extract out 3 different tables\n",
    "#### Algorithm Run Results, Panel Informations, Assay Parameters"
   ]
  },
  {
   "cell_type": "code",
   "execution_count": 13,
   "metadata": {},
   "outputs": [],
   "source": [
    "limit=[]\n",
    "\n",
    "df_results_step = modified_steps_list[0]\n",
    "\n",
    "#table for Algorithm Run Results\n",
    "df_algorithm = df_results_step.loc[df_results_step['path'].str.contains('Algorithm')].reset_index(drop=True)\n",
    "df_algorithm = df_algorithm[['name']]\n",
    "df_algorithm = df_algorithm.rename(columns = {'empty' : '', 'name' : 'Test_Name'})\n",
    "\n",
    "#table for Panel Information\n",
    "df_panel = df_results_step.loc[df_results_step['path'].str.contains('Panel')].reset_index(drop=True)\n",
    "df_panel = df_panel[['name']]\n",
    "df_panel = df_panel.rename(columns = {'empty' : '', 'name' : 'Panel_Information'})\n",
    "\n",
    "#table for Assay Parameter\n",
    "df_assay = df_results_step.loc[df_results_step['path'].str.contains('Assay')].reset_index(drop=True)\n",
    "df_assay = df_assay[['name']]\n",
    "df_assay = df_assay.rename(columns = {'empty' : '', 'name' : 'Test_Name'})\n",
    "\n",
    "#get each result data\n",
    "for index,result in enumerate (result_id):\n",
    "    df_results_step = modified_steps_list[index]\n",
    "    \n",
    "    #Data for Algorithm Run Results\n",
    "    df_algorithm_data = df_results_step.loc[df_results_step['path'].str.contains('Algorithm')].reset_index(drop=True)\n",
    "    df_algorithm_data = df_algorithm_data['measurement']\n",
    "    df_algorithm = pd.concat([df_algorithm,df_algorithm_data.rename(df_serial['Serial Number'][index])],axis=1)\n",
    "    \n",
    "    #Data for Panel Information\n",
    "    df_panel_data = df_results_step.loc[df_results_step['path'].str.contains('Panel')].reset_index(drop=True)\n",
    "    df_panel_data = df_panel_data['measurement']\n",
    "    df_panel = pd.concat([df_panel,df_panel_data.rename(df_serial['Serial Number'][index])],axis=1)\n",
    "    \n",
    "    #Data for Assay Parameter\n",
    "    df_assay_data = df_results_step.loc[df_results_step['path'].str.contains('Assay')].reset_index(drop=True)\n",
    "    df_assay_data = df_assay_data['measurement']\n",
    "    df_assay = pd.concat([df_assay,df_assay_data.rename(df_serial['Serial Number'][index])],axis=1)\n",
    "    \n",
    "    # to get the S5 limits\n",
    "    df_limits = df_results_step[['name','lowLimit','highLimit']]\n",
    "    df_limits = df_limits.dropna()\n",
    "    if df_limits[df_limits['name'] == 'Delta.S5 (T1-T2)']['highLimit'].values[0].__contains__('NaN'):\n",
    "        limit.append(df_limits[df_limits['name'] == 'Delta.S5 (T1-T2)']['lowLimit'].values[0])\n",
    "    else:\n",
    "        limit.append(df_limits[df_limits['name'] == 'Delta.S5 (T1-T2)']['highLimit'].values[0])\n",
    "\n",
    "#change index to SN and header to test name (Algorithm Run Result)          \n",
    "df_algorithm = df_algorithm.dropna(axis = 0,how='all').reset_index(drop=True)\n",
    "df_algorithm = df_algorithm.transpose()\n",
    "headers = df_algorithm.iloc[0]\n",
    "df_algorithm = df_algorithm[1:].rename(columns=headers)\n",
    "\n",
    "#change index to SN and header to test name (Panel Information)\n",
    "df_panel = df_panel.dropna(axis = 0,how='all').reset_index(drop=True)\n",
    "df_panel = df_panel.transpose()\n",
    "headers = df_panel.iloc[0]\n",
    "#check if headers contain NaN. If yes, duplicate from previous value\n",
    "if headers.isnull().values.any():\n",
    "    size=headers.str.contains('PI').count()\n",
    "    headers = pd.DataFrame(headers.values.reshape(int(len(headers)/size),size))           \n",
    "    headers = headers.fillna(method='ffill')\n",
    "    headers = pd.Series(headers.values.ravel('C'))\n",
    "df_panel = df_panel[1:].rename(columns=headers)\n",
    "\n",
    "#change index to SN and header to test name (Assay Parameter)\n",
    "df_assay = df_assay.dropna(axis = 0,how='all').reset_index(drop=True)\n",
    "df_assay = df_assay.transpose()\n",
    "headers = df_assay.iloc[0]\n",
    "df_assay = df_assay[1:].rename(columns=headers)\n"
   ]
  },
  {
   "cell_type": "markdown",
   "metadata": {},
   "source": [
    "#### Combine the table and add in required information"
   ]
  },
  {
   "cell_type": "code",
   "execution_count": 14,
   "metadata": {},
   "outputs": [],
   "source": [
    "#combine all into 1 complete tables\n",
    "df_report=pd.concat([df_algorithm,df_panel],axis=1)\n",
    "df_report=pd.concat([df_report,df_assay],axis=1)\n",
    "\n",
    "#add in panel type + operator + status + error explanation for filter\n",
    "df_report = pd.concat([df_report,df_results['Panel Type']],axis=1)\n",
    "df_report = pd.concat([df_report,df_results['Operator']],axis=1)\n",
    "df_report = pd.concat([df_report,df_results['status']],axis=1)\n",
    "df_report = pd.concat([df_report,df_results['Error Explanation']],axis=1)\n",
    "df_report = pd.concat([df_report,df_results['Serial Number']],axis=1)\n",
    "\n",
    "#add in S5 limit\n",
    "df_limit = pd.DataFrame(limit, columns=['S5 limits'])\n",
    "df_limit = df_limit.T.rename(columns = pd.Series(serial_number))\n",
    "df_report = pd.concat([df_report,df_limit.T],axis=1)\n",
    "\n",
    "#display(df_report)"
   ]
  },
  {
   "cell_type": "markdown",
   "metadata": {},
   "source": [
    "### Sort Data (from Neg to Pos)"
   ]
  },
  {
   "cell_type": "code",
   "execution_count": 15,
   "metadata": {},
   "outputs": [],
   "source": [
    "#sort data base on Panel Type (neg -> pos)\n",
    "df_report = df_report.sort_values(by=['Panel Type'])\n",
    "df_results = df_results.sort_values(by=['Panel Type'])"
   ]
  },
  {
   "cell_type": "markdown",
   "metadata": {},
   "source": [
    "# Create table for PDF"
   ]
  },
  {
   "cell_type": "markdown",
   "metadata": {},
   "source": [
    "### System Information"
   ]
  },
  {
   "cell_type": "code",
   "execution_count": 16,
   "metadata": {},
   "outputs": [],
   "source": [
    "df_system_info = df_results[['QC Test Type' , \n",
    "                            'Station ID', \n",
    "                            'Operator' , \n",
    "                            'Job Number' , \n",
    "                            'Lot Number' , \n",
    "                            'Product Number' , \n",
    "                            'Product Name',\n",
    "                            'Software Name',\n",
    "                            'Software Version',\n",
    "                            'Aim of Testing',\n",
    "                            'Test System Type',\n",
    "                            'Location',\n",
    "                            'QC Test Experiment',\n",
    "                            'Programming Lot',\n",
    "                            'DUT Firmware Rev']]\n",
    "\n",
    "s = df_system_info.stack().reset_index(level=0, drop=True)\n",
    "s = s.groupby(level=0).unique().reindex(index=df_system_info.columns)\n",
    "\n",
    "s[\"Start Time\"] = df_results[\"started_at\"].min()\n",
    "s[\"End Time\"] = df_results[\"started_at\"].max()\n",
    "s[\"Total Time\"] = s[\"End Time\"] - s[\"Start Time\"]\n",
    "df_system_info = s.to_frame()\n",
    "\n",
    "#display(df_system_info)"
   ]
  },
  {
   "cell_type": "markdown",
   "metadata": {},
   "source": [
    "### Negative Panel"
   ]
  },
  {
   "cell_type": "code",
   "execution_count": 17,
   "metadata": {},
   "outputs": [],
   "source": [
    "# filter with negative Panel Type\n",
    "negative_panel = df_report[df_report['Panel Type'] == 'Negative']\n",
    "\n",
    "#Get all the data that start with \"PI\"\n",
    "df_negative_panel = negative_panel[['Operator']]\n",
    "for index,result in enumerate (negative_panel):\n",
    "    if negative_panel.columns.values[index].__contains__('PI'):\n",
    "        df_negative_panel=pd.concat([df_negative_panel,negative_panel[negative_panel.columns.values[index]]],axis=1)  \n",
    "df_negative_panel=df_negative_panel.drop('PI.Type',axis=1)\n",
    "\n",
    "s = df_negative_panel.stack().drop_duplicates().reset_index(level=0, drop=True)\n",
    "s = s.groupby(level=0).unique().reindex(index=s.index)\n",
    "\n",
    "df_negative_panel = s.to_frame().rename({'PI.Component' : 'Component No' , \n",
    "                                        'PI.Lot Number': 'Lot', \n",
    "                                        'PI.Expiry' : 'Expiry', \n",
    "                                        'PI.Dilution' : 'Dilution',\n",
    "                                        'Operator' : 'Prepared By',\n",
    "                                        'PI.Panel Prep Comments': 'Notes'})\n",
    "#display(df_negative_panel)"
   ]
  },
  {
   "cell_type": "markdown",
   "metadata": {},
   "source": [
    "### Positive Panel"
   ]
  },
  {
   "cell_type": "code",
   "execution_count": 18,
   "metadata": {},
   "outputs": [],
   "source": [
    "# filter with positive Panel Type\n",
    "positive_panel = df_report[df_report['Panel Type'] == 'Positive']\n",
    "\n",
    "#Get all the data that start with \"PI\"\n",
    "df_positive_panel = positive_panel[['Operator']]\n",
    "for index,result in enumerate (positive_panel):\n",
    "    if positive_panel.columns.values[index].__contains__('PI'):\n",
    "        df_positive_panel=pd.concat([df_positive_panel,positive_panel[positive_panel.columns.values[index]]],axis=1)  \n",
    "df_positive_panel=df_positive_panel.drop('PI.Type',axis=1)\n",
    "\n",
    "s = df_positive_panel.stack().drop_duplicates().reset_index(level=0, drop=True)\n",
    "s = s.groupby(level=0).unique().reindex(index=s.index)\n",
    "\n",
    "df_positive_panel = s.to_frame().rename({'PI.Component' : 'Component No' , \n",
    "                                        'PI.Lot Number': 'Lot', \n",
    "                                        'PI.Expiry' : 'Expiry', \n",
    "                                        'PI.Dilution' : 'Dilution',\n",
    "                                        'Operator' : 'Prepared By',\n",
    "                                        'PI.Panel Prep Comments': 'Notes'})\n",
    "#display(df_positive_panel)"
   ]
  },
  {
   "cell_type": "markdown",
   "metadata": {},
   "source": [
    "### Assay Parameter"
   ]
  },
  {
   "cell_type": "code",
   "execution_count": 19,
   "metadata": {},
   "outputs": [],
   "source": [
    "df = df_report[['Type','Component No','Lot No','Expiry']]\n",
    "\n",
    "s = df.drop_duplicates().reset_index(level=0, drop=True)\n",
    "s = s.columns.to_frame().T.append(s, ignore_index=True)\n",
    "s.columns = range(len(s.columns))\n",
    "s = s.transpose()\n",
    "\n",
    "#Extract the Header\n",
    "COLS = s[0].unique()\n",
    "df_assay_panel = pd.DataFrame(columns=COLS)\n",
    "for col in COLS:\n",
    "    df_assay_panel[col]=s[s[0] == col][1].reset_index(drop=True)\n",
    "\n",
    "df_assay_panel = df_assay_panel.transpose()\n",
    "\n",
    "#display(df_assay_panel)"
   ]
  },
  {
   "cell_type": "markdown",
   "metadata": {},
   "source": [
    "### Test Step"
   ]
  },
  {
   "cell_type": "code",
   "execution_count": 20,
   "metadata": {},
   "outputs": [],
   "source": [
    "df_test_step = df_report[['T1.Conjugate Time',\n",
    "                        'T2.Conjugate Time',\n",
    "                        'Delta.Conjugate Time (T1-T2)',\n",
    "                        'T1.Dry Average',\n",
    "                        'T2.Dry Average',\n",
    "                        'T1.Peak Time',\n",
    "                        'T2.Peak Time',\n",
    "                        'T1.Peak Value',\n",
    "                        'T2.Peak Value',\n",
    "                        'Control Value',\n",
    "                        'Delta.S5 (T1-T2)',\n",
    "                        'Delta.Delta S2-S1',\n",
    "                        'Delta.Delta S3-S2',\n",
    "                        'Delta.Delta S4-S3',\n",
    "                        'Delta.Delta S5-S4',\n",
    "                        'Algorithm Result',\n",
    "                        'status']]\n",
    "                    \n",
    "df_test_step = df_test_step.rename(columns = {'T1.Conjugate Time' : 'T1 tconj',\n",
    "                                            'T2.Conjugate Time' : 'T2 tconj',\n",
    "                                            'Delta.Conjugate Time (T1-T2)' : 'Delta Conj',\n",
    "                                            'T1.Dry Average' : 'Dry vT1',\n",
    "                                            'T2.Dry Average' : 'Dry vT2',\n",
    "                                            'T1.Peak Time' : 'T1 tpk',\n",
    "                                            'T2.Peak Time' : 'T2 tpk',\n",
    "                                            'T1.Peak Value' : 'T1 vpk',\n",
    "                                            'T2.Peak Value' : 'T2 vpk ',\n",
    "                                            'Control Value' : 'Control',\n",
    "                                            'Delta.S5 (T1-T2)' : 'S5',\n",
    "                                            'Delta.Delta S2-S1' : 'S2-S1',\n",
    "                                            'Delta.Delta S3-S2' : 'S3-S2',\n",
    "                                            'Delta.Delta S4-S3' : 'S4-S3',\n",
    "                                            'Delta.Delta S5-S4' : 'S5-S4',\n",
    "                                            'Algorithm Result' : 'Firmware result',\n",
    "                                            'status' : 'Status'})\n",
    "\n",
    "\n",
    "#display(df_test_step)"
   ]
  },
  {
   "cell_type": "markdown",
   "metadata": {},
   "source": [
    "### Error List"
   ]
  },
  {
   "cell_type": "code",
   "execution_count": 21,
   "metadata": {},
   "outputs": [],
   "source": [
    "# filter with positive Panel Type\n",
    "error_panel = df_report[df_report['status'] == 'FAILED']\n",
    "\n",
    "#create table\n",
    "df_error_panel = error_panel[['Algorithm Result',\n",
    "                             'Error Explanation']]\n",
    "\n",
    "df_error_panel = df_error_panel.rename(columns = {'Algorithm Result' : 'Error',\n",
    "                                                 'Error Explanation' : 'Reason'})\n",
    "\n",
    "#display(df_error_panel)"
   ]
  },
  {
   "cell_type": "markdown",
   "metadata": {},
   "source": [
    "# Plot Graph"
   ]
  },
  {
   "cell_type": "markdown",
   "metadata": {},
   "source": [
    "### Scatter graph"
   ]
  },
  {
   "cell_type": "code",
   "execution_count": 22,
   "metadata": {},
   "outputs": [
    {
     "name": "stderr",
     "output_type": "stream",
     "text": [
      "C:\\Program Files\\National Instruments\\Shared\\Skyline\\Python\\3.8\\lib\\site-packages\\pandas\\plotting\\_matplotlib\\core.py:1192: UserWarning: FixedFormatter should only be used together with FixedLocator\n",
      "  ax.set_xticklabels(xticklabels)\n"
     ]
    },
    {
     "data": {
      "text/plain": [
       "2.494998"
      ]
     },
     "metadata": {},
     "output_type": "display_data"
    },
    {
     "data": {
      "image/png": "[encoded data removed]",
      "text/plain": [
       "<Figure size 1584x1080 with 1 Axes>"
      ]
     },
     "metadata": {
      "needs_background": "light"
     },
     "output_type": "display_data"
    }
   ],
   "source": [
    "start_time = datetime.now()\n",
    "\n",
    "#detect change of limit\n",
    "for index, item in enumerate(df_report['S5 limits']):\n",
    "    if index != 0:\n",
    "        if df_report['S5 limits'][index] != df_report['S5 limits'][index-1]:\n",
    "            flag=index\n",
    "\n",
    "#create 2 dataframe for data (divide into pos and neg)\n",
    "df_scatter_S5_neg = pd.DataFrame({'S5_neg':  pd.to_numeric(df_report['Delta.S5 (T1-T2)'][0:flag])})\n",
    "df_scatter_S5_pos = pd.DataFrame({'S5_pos':  pd.to_numeric(df_report['Delta.S5 (T1-T2)'][flag::])})     \n",
    "df_scatter_S5_new=pd.concat([df_scatter_S5_neg,df_scatter_S5_pos],axis=0)\n",
    "df_scatter_S5_new=pd.concat([df_scatter_S5_new,df_report['Serial Number']],axis=1)\n",
    "\n",
    "#create 2 dataframe for limit (divide into pos and neg)\n",
    "df_scatter_limit_neg = pd.DataFrame({'neg_limit': pd.to_numeric(df_report['S5 limits'][flag-1])},index=df_report['Serial Number'])\n",
    "df_scatter_limit_pos = pd.DataFrame({'pos_limit': pd.to_numeric(df_report['S5 limits'][flag+1])},index=df_report['Serial Number'])                                                       \n",
    "df_limit=pd.concat([df_scatter_limit_neg,df_scatter_limit_pos],axis=1)\n",
    "\n",
    "\n",
    "#create 4 plots in same graph\n",
    "ax = df_scatter_S5_new.plot.scatter(x='Serial Number', y='S5_neg', color='b', grid=True)\n",
    "ax = df_scatter_S5_new.plot.scatter(ax=ax, x='Serial Number', y='S5_pos', color='k', grid=True)\n",
    "ax = df_limit.plot(ax=ax, y='neg_limit', color=\"g\", rot=90, legend=False)\n",
    "scatter_plot = df_limit.plot(ax=ax, y='pos_limit', color=\"r\", rot=90, legend=False, figsize=(22,15))\n",
    "scatter_plot.set_xticklabels([])\n",
    "plt.title(\"Scatter graph\",fontweight=\"bold\", fontsize=24)\n",
    "\n",
    "#save graph\n",
    "scatter_plot.get_figure().savefig(\"C:/ProgramData/National Instruments/Skyline/JupyterHub/scatter_plot.png\")\n",
    "end_time = datetime.now()\n",
    "total_time = (end_time - start_time).total_seconds()\n",
    "display(total_time)\n"
   ]
  },
  {
   "cell_type": "markdown",
   "metadata": {},
   "source": [
    "### Bar graph"
   ]
  },
  {
   "cell_type": "code",
   "execution_count": 23,
   "metadata": {},
   "outputs": [
    {
     "data": {
      "image/png": "[encoded data removed]",
      "text/plain": [
       "<Figure size 1584x1080 with 2 Axes>"
      ]
     },
     "metadata": {
      "needs_background": "light"
     },
     "output_type": "display_data"
    },
    {
     "data": {
      "text/plain": [
       "12.938"
      ]
     },
     "metadata": {},
     "output_type": "display_data"
    },
    {
     "data": {
      "text/plain": [
       "1.081999"
      ]
     },
     "metadata": {},
     "output_type": "display_data"
    }
   ],
   "source": [
    "start_time = datetime.now()\n",
    "df_bar_graph = pd.DataFrame({\n",
    "                    'Serial Number': df_report['Serial Number'],\n",
    "                    'Delta.Delta S2-S1':  pd.to_numeric(df_report['Delta.Delta S2-S1']),\n",
    "                    'Delta.Delta S3-S2':  pd.to_numeric(df_report['Delta.Delta S3-S2']),\n",
    "                    'Delta.Delta S4-S3':  pd.to_numeric(df_report['Delta.Delta S4-S3']),\n",
    "                    'Delta.Delta S5-S4':  pd.to_numeric(df_report['Delta.Delta S5-S4'])  })\n",
    "\n",
    "\n",
    "# bar_plot = df_bar_graph.plot.scatter(x='Serial Number', y = 'Delta.Delta S5-S4',\n",
    "#                                  legend=False, rot=90, grid = False, figsize=(22,15))\n",
    "# bar_plot = df_bar_graph.plot.scatter(x='Serial Number', y = 'Delta.Delta S3-S2',\n",
    "#                                  legend=False, rot=90, grid = False, figsize=(22,15), color = 'r', ax=bar_plot)\n",
    "# bar_plot = df_bar_graph.plot.scatter(x='Serial Number', y = 'Delta.Delta S2-S1',\n",
    "#                                  legend=False, rot=90, grid = False, figsize=(22,15), color = 'y', ax=bar_plot)\n",
    "# bar_plot = df_bar_graph.plot.scatter(x='Serial Number', y = 'Delta.Delta S4-S3',\n",
    "#                                  legend=False, rot=90, grid = False, figsize=(22,15), color = 'g', ax=bar_plot)\n",
    "bar_plot = df_bar_graph.plot.bar(x='Serial Number', secondary_y=['Delta.Delta S2-S1','Delta.Delta S3-S2','Delta.Delta S4-S3','Delta.Delta S5-S4'], \n",
    "                                 legend=False, rot=90, grid = False, figsize=(22,15))\n",
    "bar_plot.set_xticklabels([])\n",
    "plt.legend(loc='lower right')\n",
    "plt.title(\"Bar graph\",fontweight=\"bold\", fontsize=24)\n",
    "plt.show()\n",
    "end_time = datetime.now()\n",
    "total_time = (end_time - start_time).total_seconds()\n",
    "display(total_time)\n",
    "start_time = datetime.now()\n",
    "bar_plot.get_figure().savefig(\"C:/ProgramData/National Instruments/Skyline/JupyterHub/bar_plot.png\")\n",
    "end_time = datetime.now()\n",
    "total_time = (end_time - start_time).total_seconds()\n",
    "display(total_time)\n"
   ]
  },
  {
   "cell_type": "markdown",
   "metadata": {},
   "source": [
    "### Box plot 1"
   ]
  },
  {
   "cell_type": "code",
   "execution_count": 24,
   "metadata": {},
   "outputs": [
    {
     "data": {
      "image/png": "[encoded data removed]",
      "text/plain": [
       "<Figure size 1584x1080 with 1 Axes>"
      ]
     },
     "metadata": {
      "needs_background": "light"
     },
     "output_type": "display_data"
    }
   ],
   "source": [
    "df_box_neg_graph = pd.DataFrame({\n",
    "                    'Serial Number': negative_panel['Serial Number'],\n",
    "                    'S5':  pd.to_numeric(negative_panel['Delta.S5 (T1-T2)']) })\n",
    "\n",
    "box1_plot = df_box_neg_graph.plot.box(x='Serial Number', y='S5', legend = False, rot=0, figsize=(22,15))\n",
    "plt.title(\"Box graph (negative)\",fontweight=\"bold\", fontsize=24)\n",
    "\n",
    "box1_plot.get_figure().savefig(\"C:/ProgramData/National Instruments/Skyline/JupyterHub/box1_plot.png\")\n"
   ]
  },
  {
   "cell_type": "markdown",
   "metadata": {},
   "source": [
    "### Box plot 2"
   ]
  },
  {
   "cell_type": "code",
   "execution_count": 25,
   "metadata": {},
   "outputs": [
    {
     "data": {
      "image/png": "[encoded data removed]",
      "text/plain": [
       "<Figure size 1584x1080 with 1 Axes>"
      ]
     },
     "metadata": {
      "needs_background": "light"
     },
     "output_type": "display_data"
    }
   ],
   "source": [
    "df_box_pos_graph = pd.DataFrame({\n",
    "                    'Serial Number': positive_panel['Serial Number'],\n",
    "                    'S5':  pd.to_numeric(positive_panel['Delta.S5 (T1-T2)']) })\n",
    "\n",
    "box2_plot = df_box_pos_graph.plot.box(x='Serial Number', y='S5', legend = False, rot=0, figsize=(22,15))\n",
    "plt.title(\"Box graph (positive)\",fontweight=\"bold\", fontsize=24)\n",
    "\n",
    "box2_plot.get_figure().savefig(\"C:/ProgramData/National Instruments/Skyline/JupyterHub/box2_plot.png\")\n"
   ]
  },
  {
   "cell_type": "code",
   "execution_count": 26,
   "metadata": {},
   "outputs": [],
   "source": [
    "##combine both box graph\n",
    "#df_box_pos_graph = pd.DataFrame({\n",
    "#                    'Serial Number': positive_panel['Serial Number'],\n",
    "#                    'S5_pos':  pd.to_numeric(positive_panel['Delta.S5 (T1-T2)']),\n",
    "#                    'S5_neg':  pd.to_numeric(negative_panel['Delta.S5 (T1-T2)'])})\n",
    "#\n",
    "#box3_plot = df_box_pos_graph.plot.box(x='Serial Number', secondary_y=['S5_neg','S5_pos'], legend = False, rot=0, figsize=(13,10))"
   ]
  },
  {
   "cell_type": "markdown",
   "metadata": {},
   "source": [
    "# Create into PDF"
   ]
  },
  {
   "cell_type": "code",
   "execution_count": 27,
   "metadata": {},
   "outputs": [],
   "source": [
    "import weasyprint\n",
    "from weasyprint import HTML\n",
    "from jinja2 import Environment, FileSystemLoader"
   ]
  },
  {
   "cell_type": "code",
   "execution_count": 28,
   "metadata": {},
   "outputs": [],
   "source": [
    "template_dir = 'C:/ProgramData/National Instruments/Skyline/JupyterHub'\n",
    "env = Environment(loader=FileSystemLoader(searchpath = template_dir))\n",
    "template = env.get_template(\"QCreportTemplate.html\")\n",
    "template_vars = {\"title\": \"QC Batch Report\",\n",
    "                 \"logo_alt\": \"ellume_icon\",\n",
    "                 \"logo\": \"ellume_icon.png\",\n",
    "                 \"system_info_table\": df_system_info.to_html(header=False),\n",
    "                 \"negative_panel_table\": df_negative_panel.to_html(header=False),\n",
    "                 \"positive_panel_table\": df_positive_panel.to_html(header=False),\n",
    "                 \"assay_parameters_table\": df_assay_panel.to_html(header=False),\n",
    "                 \"test_details_table\": df_test_step.to_html(header=True),\n",
    "                 \"error_list_table\": df_error_panel.to_html(header=True),\n",
    "                 \n",
    "                 \"scatter_plot_alt\": \"Scatter Plot\",\n",
    "                 \"scatter_plot\": \"scatter_plot.png\",\n",
    "                 \"bar_plot_alt\": \"Bar Plot\",\n",
    "                 \"bar_plot\": \"bar_plot.png\",\n",
    "                 \"box1_plot_alt\": \"Box 1 Plot\",\n",
    "                 \"box1_plot\": \"box1_plot.png\",\n",
    "                 \"box2_plot_alt\": \"Box 2 Plot\",\n",
    "                 \"box2_plot\": \"box2_plot.png\"\n",
    "                }\n",
    "html_out = template.render(template_vars)"
   ]
  },
  {
   "cell_type": "code",
   "execution_count": 29,
   "metadata": {},
   "outputs": [
    {
     "data": {
      "text/plain": [
       "21.252999"
      ]
     },
     "metadata": {},
     "output_type": "display_data"
    }
   ],
   "source": [
    "#Create PDF\n",
    "start_time = datetime.now()\n",
    "base_dir = 'C:/ProgramData/National Instruments/Skyline/JupyterHub/'\n",
    "t = time.localtime()\n",
    "time_stamp = time.strftime('%b-%d-%Y_%H_%M_%S', t)\n",
    "file_name = \"QC_Batch_Report_\" + time_stamp  + '_' + Lot_Number + \".pdf\"\n",
    "HTML(string=html_out,base_url=template_dir).write_pdf(base_dir + file_name, \n",
    "                                                      stylesheets=[\"C:/ProgramData/National Instruments/Skyline/JupyterHub/typography_QC_A3.css\"])\n",
    "end_time = datetime.now()\n",
    "total_time = (end_time - start_time).total_seconds()\n",
    "display(total_time)"
   ]
  },
  {
   "cell_type": "markdown",
   "metadata": {},
   "source": [
    "### Upload file "
   ]
  },
  {
   "cell_type": "code",
   "execution_count": null,
   "metadata": {},
   "outputs": [],
   "source": [
    "server_url =\" https://ausyslap01/#fileviewer/file\"\n",
    "files_api = file_ingestion.FilesApi()\n",
    "response = await files_api.upload(base_dir + file_name)\n",
    "file_id = response.uri.split(\"/\")[-1:]\n",
    "report_url = server_url + '/' + file_id[0]"
   ]
  },
  {
   "cell_type": "code",
   "execution_count": null,
   "metadata": {},
   "outputs": [],
   "source": []
  }
 ],
 "metadata": {
  "kernelspec": {
   "display_name": "Python 3",
   "language": "python",
   "name": "python3"
  },
  "language_info": {
   "codemirror_mode": {
    "name": "ipython",
    "version": 3
   },
   "file_extension": ".py",
   "mimetype": "text/x-python",
   "name": "python",
   "nbconvert_exporter": "python",
   "pygments_lexer": "ipython3",
   "version": "3.8.5"
  }
 },
 "nbformat": 4,
 "nbformat_minor": 4
}
