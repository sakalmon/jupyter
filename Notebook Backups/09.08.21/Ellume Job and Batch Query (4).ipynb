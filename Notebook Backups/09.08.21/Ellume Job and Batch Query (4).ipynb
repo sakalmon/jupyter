{
 "cells": [
  {
   "cell_type": "markdown",
   "metadata": {},
   "source": [
    "# Throughput\n",
    "This notebook creates a throughput report for test results. It ties into the **Test Monitor Service** for retrieving filtered test results, the **Notebook Execution Service** for running outside of Jupyterhub, and the **Test Monitor Reports page** at #testmonitor/reports for displaying results.\n",
    "\n",
    "The parameters and output use a schema recognized by the Test Monitor Reports page, which can be implemented by various report types. The Throughput notebook produces data that is best shown in a bar graph."
   ]
  },
  {
   "cell_type": "markdown",
   "metadata": {},
   "source": [
    "### Imports\n",
    "Import Python modules for executing the notebook. Pandas is used for building and handling dataframes. Scrapbook is used for recording data for the Notebook Execution Service. The SystemLink Test Monitor Client provides access to test result data for processing."
   ]
  },
  {
   "cell_type": "code",
   "execution_count": 1,
   "metadata": {},
   "outputs": [],
   "source": [
    "import copy\n",
    "import datetime\n",
    "import pandas as pd\n",
    "import scrapbook as sb\n",
    "from dateutil import tz\n",
    "\n",
    "import systemlink.clients.nitestmonitor as testmon"
   ]
  },
  {
   "cell_type": "markdown",
   "metadata": {},
   "source": [
    "### Parameters\n",
    "- `results_filter`: Dynamic Linq query filter for test results from the Test Monitor Service  \n",
    "  Options: Any valid Test Monitor Results Dynamic Linq filter  \n",
    "  Default: `'startedWithin <= \"30.0:0:0\"'`\n",
    "- `group_by`: The dimension along which to reduce; what each bar in the output graph represents  \n",
    "  Options: Day, System, Test Program, Operator, Part Number  \n",
    "  Default: Day\n",
    "\n",
    "Parameters are also listed in the metadata for the parameters cell, along with their default values. The Notebook Execution services uses that metadata to pass parameters from the Test Monitor Reports page to this notebook. Available `group_by` options are listed in the metadata as well; the Test Monitor Reports page uses these to validate inputs sent to the notebook.\n",
    "\n",
    "To see the metadata, select the code cell and click the wrench icon in the far left panel."
   ]
  },
  {
   "cell_type": "code",
   "execution_count": 2,
   "metadata": {
    "papermill": {
     "parameters": {
      "products_filter": "",
      "results_filter": "startedWithin <= \"30.0:0:0\""
     }
    },
    "systemlink": {
     "namespaces": [
      "ni-testmanagement"
     ],
     "outputs": [
      {
       "display_name": "Results",
       "id": "results_graph",
       "type": "data_frame"
      }
     ],
     "parameters": [
      {
       "default_display": {
        "products_filter": [],
        "results_filter": [
         {
          "queryOperandUnit": "DAYS",
          "queryOperandValue": 30,
          "queryOperator": "LESS_THAN_OR_EQUAL",
          "queryOperatorName": "startedWithin"
         }
        ]
       },
       "display_name": "Query by",
       "id": "results_filter",
       "type": "test_monitor_result_query"
      }
     ],
     "version": 2
    },
    "tags": [
     "parameters"
    ]
   },
   "outputs": [],
   "source": [
    "results_filter = 'startedWithin <= \"30.0:0:0\" && workspacename = \"DEV Manufacturing\"'\n",
    "products_filter = ''"
   ]
  },
  {
   "cell_type": "markdown",
   "metadata": {},
   "source": [
    "### Create Test Monitor client\n",
    "Establish a connection to SystemLink over HTTP."
   ]
  },
  {
   "cell_type": "code",
   "execution_count": 3,
   "metadata": {},
   "outputs": [],
   "source": [
    "results_api = testmon.ResultsApi()"
   ]
  },
  {
   "cell_type": "markdown",
   "metadata": {},
   "source": [
    "### Query for results\n",
    "Query the Test Monitor Service for results matching the `results_filter` parameter."
   ]
  },
  {
   "cell_type": "code",
   "execution_count": 4,
   "metadata": {},
   "outputs": [],
   "source": [
    "results_query = testmon.ResultsAdvancedQuery(\n",
    "    results_filter, product_filter=products_filter, order_by=testmon.ResultField.STARTED_AT\n",
    ")\n",
    "\n",
    "results = []\n",
    "\n",
    "response = await results_api.query_results_v2(post_body=results_query)\n",
    "while response.continuation_token:\n",
    "    results = results + response.results\n",
    "    results_query.continuation_token = response.continuation_token\n",
    "    response = await results_api.query_results_v2(post_body=results_query)\n",
    "\n",
    "results_list = [result.to_dict() for result in results]\n",
    "#display (results_list)"
   ]
  },
  {
   "cell_type": "markdown",
   "metadata": {},
   "source": [
    "### Create pandas dataframe\n",
    "Put the data into a dataframe whose columns are test result id, start time, and group name."
   ]
  },
  {
   "cell_type": "code",
   "execution_count": 5,
   "metadata": {},
   "outputs": [
    {
     "ename": "KeyError",
     "evalue": "'status'",
     "output_type": "error",
     "traceback": [
      "\u001b[1;31m---------------------------------------------------------------------------\u001b[0m",
      "\u001b[1;31mKeyError\u001b[0m                                  Traceback (most recent call last)",
      "\u001b[1;32mC:\\Program Files\\National Instruments\\Shared\\Skyline\\Python\\3.8\\lib\\site-packages\\pandas\\core\\indexes\\base.py\u001b[0m in \u001b[0;36mget_loc\u001b[1;34m(self, key, method, tolerance)\u001b[0m\n\u001b[0;32m   2645\u001b[0m             \u001b[1;32mtry\u001b[0m\u001b[1;33m:\u001b[0m\u001b[1;33m\u001b[0m\u001b[1;33m\u001b[0m\u001b[0m\n\u001b[1;32m-> 2646\u001b[1;33m                 \u001b[1;32mreturn\u001b[0m \u001b[0mself\u001b[0m\u001b[1;33m.\u001b[0m\u001b[0m_engine\u001b[0m\u001b[1;33m.\u001b[0m\u001b[0mget_loc\u001b[0m\u001b[1;33m(\u001b[0m\u001b[0mkey\u001b[0m\u001b[1;33m)\u001b[0m\u001b[1;33m\u001b[0m\u001b[1;33m\u001b[0m\u001b[0m\n\u001b[0m\u001b[0;32m   2647\u001b[0m             \u001b[1;32mexcept\u001b[0m \u001b[0mKeyError\u001b[0m\u001b[1;33m:\u001b[0m\u001b[1;33m\u001b[0m\u001b[1;33m\u001b[0m\u001b[0m\n",
      "\u001b[1;32mpandas\\_libs\\index.pyx\u001b[0m in \u001b[0;36mpandas._libs.index.IndexEngine.get_loc\u001b[1;34m()\u001b[0m\n",
      "\u001b[1;32mpandas\\_libs\\index.pyx\u001b[0m in \u001b[0;36mpandas._libs.index.IndexEngine.get_loc\u001b[1;34m()\u001b[0m\n",
      "\u001b[1;32mpandas\\_libs\\hashtable_class_helper.pxi\u001b[0m in \u001b[0;36mpandas._libs.hashtable.PyObjectHashTable.get_item\u001b[1;34m()\u001b[0m\n",
      "\u001b[1;32mpandas\\_libs\\hashtable_class_helper.pxi\u001b[0m in \u001b[0;36mpandas._libs.hashtable.PyObjectHashTable.get_item\u001b[1;34m()\u001b[0m\n",
      "\u001b[1;31mKeyError\u001b[0m: 'status'",
      "\nDuring handling of the above exception, another exception occurred:\n",
      "\u001b[1;31mKeyError\u001b[0m                                  Traceback (most recent call last)",
      "\u001b[1;32m<ipython-input-5-e0652e454e58>\u001b[0m in \u001b[0;36m<module>\u001b[1;34m\u001b[0m\n\u001b[0;32m      1\u001b[0m \u001b[0mdf_results\u001b[0m \u001b[1;33m=\u001b[0m \u001b[0mpd\u001b[0m\u001b[1;33m.\u001b[0m\u001b[0mDataFrame\u001b[0m\u001b[1;33m.\u001b[0m\u001b[0mfrom_records\u001b[0m\u001b[1;33m(\u001b[0m\u001b[0mresults_list\u001b[0m\u001b[1;33m)\u001b[0m\u001b[1;33m\u001b[0m\u001b[1;33m\u001b[0m\u001b[0m\n\u001b[1;32m----> 2\u001b[1;33m \u001b[0mdf_results\u001b[0m \u001b[1;33m=\u001b[0m \u001b[0mdf_results\u001b[0m\u001b[1;33m.\u001b[0m\u001b[0mjoin\u001b[0m\u001b[1;33m(\u001b[0m\u001b[0mdf_results\u001b[0m\u001b[1;33m[\u001b[0m\u001b[1;34m'status'\u001b[0m\u001b[1;33m]\u001b[0m\u001b[1;33m.\u001b[0m\u001b[0mapply\u001b[0m\u001b[1;33m(\u001b[0m\u001b[0mpd\u001b[0m\u001b[1;33m.\u001b[0m\u001b[0mSeries\u001b[0m\u001b[1;33m)\u001b[0m\u001b[1;33m)\u001b[0m\u001b[1;33m\u001b[0m\u001b[1;33m\u001b[0m\u001b[0m\n\u001b[0m\u001b[0;32m      3\u001b[0m \u001b[1;31m#df_results['started_at'] = df_results['started_at'].apply(lambda t: t.tz_localize(None))\u001b[0m\u001b[1;33m\u001b[0m\u001b[1;33m\u001b[0m\u001b[1;33m\u001b[0m\u001b[0m\n\u001b[0;32m      4\u001b[0m \u001b[1;31m#df_results['updated_at'] = df_results['updated_at'].apply(lambda t: t.tz_localize(None))\u001b[0m\u001b[1;33m\u001b[0m\u001b[1;33m\u001b[0m\u001b[1;33m\u001b[0m\u001b[0m\n\u001b[0;32m      5\u001b[0m \u001b[0mdf_results\u001b[0m\u001b[1;33m.\u001b[0m\u001b[0mpop\u001b[0m\u001b[1;33m(\u001b[0m\u001b[1;34m'status'\u001b[0m\u001b[1;33m)\u001b[0m\u001b[1;33m\u001b[0m\u001b[1;33m\u001b[0m\u001b[0m\n",
      "\u001b[1;32mC:\\Program Files\\National Instruments\\Shared\\Skyline\\Python\\3.8\\lib\\site-packages\\pandas\\core\\frame.py\u001b[0m in \u001b[0;36m__getitem__\u001b[1;34m(self, key)\u001b[0m\n\u001b[0;32m   2798\u001b[0m             \u001b[1;32mif\u001b[0m \u001b[0mself\u001b[0m\u001b[1;33m.\u001b[0m\u001b[0mcolumns\u001b[0m\u001b[1;33m.\u001b[0m\u001b[0mnlevels\u001b[0m \u001b[1;33m>\u001b[0m \u001b[1;36m1\u001b[0m\u001b[1;33m:\u001b[0m\u001b[1;33m\u001b[0m\u001b[1;33m\u001b[0m\u001b[0m\n\u001b[0;32m   2799\u001b[0m                 \u001b[1;32mreturn\u001b[0m \u001b[0mself\u001b[0m\u001b[1;33m.\u001b[0m\u001b[0m_getitem_multilevel\u001b[0m\u001b[1;33m(\u001b[0m\u001b[0mkey\u001b[0m\u001b[1;33m)\u001b[0m\u001b[1;33m\u001b[0m\u001b[1;33m\u001b[0m\u001b[0m\n\u001b[1;32m-> 2800\u001b[1;33m             \u001b[0mindexer\u001b[0m \u001b[1;33m=\u001b[0m \u001b[0mself\u001b[0m\u001b[1;33m.\u001b[0m\u001b[0mcolumns\u001b[0m\u001b[1;33m.\u001b[0m\u001b[0mget_loc\u001b[0m\u001b[1;33m(\u001b[0m\u001b[0mkey\u001b[0m\u001b[1;33m)\u001b[0m\u001b[1;33m\u001b[0m\u001b[1;33m\u001b[0m\u001b[0m\n\u001b[0m\u001b[0;32m   2801\u001b[0m             \u001b[1;32mif\u001b[0m \u001b[0mis_integer\u001b[0m\u001b[1;33m(\u001b[0m\u001b[0mindexer\u001b[0m\u001b[1;33m)\u001b[0m\u001b[1;33m:\u001b[0m\u001b[1;33m\u001b[0m\u001b[1;33m\u001b[0m\u001b[0m\n\u001b[0;32m   2802\u001b[0m                 \u001b[0mindexer\u001b[0m \u001b[1;33m=\u001b[0m \u001b[1;33m[\u001b[0m\u001b[0mindexer\u001b[0m\u001b[1;33m]\u001b[0m\u001b[1;33m\u001b[0m\u001b[1;33m\u001b[0m\u001b[0m\n",
      "\u001b[1;32mC:\\Program Files\\National Instruments\\Shared\\Skyline\\Python\\3.8\\lib\\site-packages\\pandas\\core\\indexes\\base.py\u001b[0m in \u001b[0;36mget_loc\u001b[1;34m(self, key, method, tolerance)\u001b[0m\n\u001b[0;32m   2646\u001b[0m                 \u001b[1;32mreturn\u001b[0m \u001b[0mself\u001b[0m\u001b[1;33m.\u001b[0m\u001b[0m_engine\u001b[0m\u001b[1;33m.\u001b[0m\u001b[0mget_loc\u001b[0m\u001b[1;33m(\u001b[0m\u001b[0mkey\u001b[0m\u001b[1;33m)\u001b[0m\u001b[1;33m\u001b[0m\u001b[1;33m\u001b[0m\u001b[0m\n\u001b[0;32m   2647\u001b[0m             \u001b[1;32mexcept\u001b[0m \u001b[0mKeyError\u001b[0m\u001b[1;33m:\u001b[0m\u001b[1;33m\u001b[0m\u001b[1;33m\u001b[0m\u001b[0m\n\u001b[1;32m-> 2648\u001b[1;33m                 \u001b[1;32mreturn\u001b[0m \u001b[0mself\u001b[0m\u001b[1;33m.\u001b[0m\u001b[0m_engine\u001b[0m\u001b[1;33m.\u001b[0m\u001b[0mget_loc\u001b[0m\u001b[1;33m(\u001b[0m\u001b[0mself\u001b[0m\u001b[1;33m.\u001b[0m\u001b[0m_maybe_cast_indexer\u001b[0m\u001b[1;33m(\u001b[0m\u001b[0mkey\u001b[0m\u001b[1;33m)\u001b[0m\u001b[1;33m)\u001b[0m\u001b[1;33m\u001b[0m\u001b[1;33m\u001b[0m\u001b[0m\n\u001b[0m\u001b[0;32m   2649\u001b[0m         \u001b[0mindexer\u001b[0m \u001b[1;33m=\u001b[0m \u001b[0mself\u001b[0m\u001b[1;33m.\u001b[0m\u001b[0mget_indexer\u001b[0m\u001b[1;33m(\u001b[0m\u001b[1;33m[\u001b[0m\u001b[0mkey\u001b[0m\u001b[1;33m]\u001b[0m\u001b[1;33m,\u001b[0m \u001b[0mmethod\u001b[0m\u001b[1;33m=\u001b[0m\u001b[0mmethod\u001b[0m\u001b[1;33m,\u001b[0m \u001b[0mtolerance\u001b[0m\u001b[1;33m=\u001b[0m\u001b[0mtolerance\u001b[0m\u001b[1;33m)\u001b[0m\u001b[1;33m\u001b[0m\u001b[1;33m\u001b[0m\u001b[0m\n\u001b[0;32m   2650\u001b[0m         \u001b[1;32mif\u001b[0m \u001b[0mindexer\u001b[0m\u001b[1;33m.\u001b[0m\u001b[0mndim\u001b[0m \u001b[1;33m>\u001b[0m \u001b[1;36m1\u001b[0m \u001b[1;32mor\u001b[0m \u001b[0mindexer\u001b[0m\u001b[1;33m.\u001b[0m\u001b[0msize\u001b[0m \u001b[1;33m>\u001b[0m \u001b[1;36m1\u001b[0m\u001b[1;33m:\u001b[0m\u001b[1;33m\u001b[0m\u001b[1;33m\u001b[0m\u001b[0m\n",
      "\u001b[1;32mpandas\\_libs\\index.pyx\u001b[0m in \u001b[0;36mpandas._libs.index.IndexEngine.get_loc\u001b[1;34m()\u001b[0m\n",
      "\u001b[1;32mpandas\\_libs\\index.pyx\u001b[0m in \u001b[0;36mpandas._libs.index.IndexEngine.get_loc\u001b[1;34m()\u001b[0m\n",
      "\u001b[1;32mpandas\\_libs\\hashtable_class_helper.pxi\u001b[0m in \u001b[0;36mpandas._libs.hashtable.PyObjectHashTable.get_item\u001b[1;34m()\u001b[0m\n",
      "\u001b[1;32mpandas\\_libs\\hashtable_class_helper.pxi\u001b[0m in \u001b[0;36mpandas._libs.hashtable.PyObjectHashTable.get_item\u001b[1;34m()\u001b[0m\n",
      "\u001b[1;31mKeyError\u001b[0m: 'status'"
     ]
    }
   ],
   "source": [
    "df_results = pd.DataFrame.from_records(results_list)\n",
    "df_results = df_results.join(df_results['status'].apply(pd.Series))\n",
    "#df_results['started_at'] = df_results['started_at'].apply(lambda t: t.tz_localize(None))\n",
    "#df_results['updated_at'] = df_results['updated_at'].apply(lambda t: t.tz_localize(None))\n",
    "df_results.pop('status')\n",
    "df_results.pop('status_type_summary')\n",
    "df_results['Job Number'] = df_results['properties'].apply(lambda t: t['Job Number'] if 'Job Number' in t else '')\n",
    "df_results['Lot Number'] = df_results['properties'].apply(lambda t: t['Lot Number'] if 'Lot Number' in t else '')\n",
    "properties = pd.json_normalize(df_results[\"properties\"])\n",
    "df_results = pd.concat([df_results.drop([\"properties\"], axis = 1), properties],axis =1 )\n",
    "\n",
    "#convert UTC timezone to local timezone\n",
    "to_zone = tz.tzlocal()\n",
    "utc = df_results['started_at']\n",
    "def astimezone(x):\n",
    "    return x.astimezone(to_zone)\n",
    "# Convert time zone\n",
    "central = utc.apply(astimezone)\n",
    "df_results = pd.concat([df_results.drop(['started_at'],axis=1), central],axis=1)\n",
    "\n",
    "#convert UTC timezone to local timezone\n",
    "to_zone = tz.tzlocal()\n",
    "utc = df_results['updated_at']\n",
    "def astimezone(x):\n",
    "    return x.astimezone(to_zone)\n",
    "# Convert time zone\n",
    "central = utc.apply(astimezone)\n",
    "df_results = pd.concat([df_results.drop(['updated_at'],axis=1), central],axis=1)\n",
    "\n",
    "df_results['started_at'] = df_results['started_at'].apply(lambda t: t.tz_localize(None))\n",
    "df_results['updated_at'] = df_results['updated_at'].apply(lambda t: t.tz_localize(None))\n",
    "\n",
    "#display(df_results)"
   ]
  },
  {
   "cell_type": "markdown",
   "metadata": {},
   "source": [
    "### Convert the dataframe to the SystemLink reports output format\n",
    "The result format for a SystemLink report consists of a list of output objects as defined below:\n",
    "- `type`: The type of the output. Accepted values are 'data_frame' and 'scalar'.\n",
    "- `id`: Corresponds to the id specified in the 'output' metadata. Used for returning multiple outputs with the 'V2' report format.\n",
    "- `data`: A dict representing the 'data_frame' type output data.\n",
    "    - `columns`: A list of dicts containing the names and data type for each column in the dataframe.\n",
    "    - `values`: A list of lists containing the dataframe values. The sublists are ordered according to the 'columns' configuration.\n",
    "- `value`: The value returned for the 'scalar' output type.\n",
    "- `config`: The configurations for the given output.\n",
    "    - `title`: The output title.\n",
    "    - `graph`: The graph configurations.\n",
    "        - `axis_labels`: The x-axis label and y-axis label.\n",
    "        - `plots`: A list of plots to display mapped from the dataframe's columns, along with configuration options.\n",
    "            - `x`: The dataframe column corresponding to the x-axis values.\n",
    "            - `y`: The dataframe column corresponding to the y-axis values.\n",
    "            - `style`: The plot's style. Accepted values are ['LINE', 'BAR', 'SCATTER'].\n",
    "            - `color`: The plot's color. Accepted formats are ['blue', '#0000ff', 'rbg(0,0,255)'].\n",
    "            - `label`: The plot's name, to be shown in a plot legend. \n",
    "            - `secondary_y`: Whether or not to display this plot on a second y-axis.\n",
    "            - `group_by`: A list of columns in the dataframe on which to group data, e.g. to color individual points.\n",
    "        - `orientation`: 'HORIZONTAL' or 'VERTICAL'.\n",
    "        - `stacked`: Whether or not to display the plots stacked on top of each other.\n",
    "\n",
    "Here is an example of a notebook result with two outputs, one of which is a dataframe with two columns, and the other is a scalar value:\n",
    "```\n",
    "[{\n",
    "    'type': 'data_frame',\n",
    "    'id': 'output_id_1',\n",
    "    'data': {\n",
    "        'columns': [\n",
    "            {'name': 'time', 'type': 'datetime'},\n",
    "            {'name': 'value', 'type': 'number'}\n",
    "         ],\n",
    "        'values': [\n",
    "            ['2020-09-29T00:00:00.000Z', 46.1538461538],\n",
    "            ['2020-09-30T00:00:00.000Z', 63.1578947368],\n",
    "            ...\n",
    "         ]\n",
    "    },\n",
    "    'config': {\n",
    "        'title': 'My Title',\n",
    "        'graph': {\n",
    "            'axis_labels': ['X Axis', 'Y Axis'],\n",
    "            'orientation': 'VERTICAL',\n",
    "            'plots': [\n",
    "                {'x': 'time', 'y': 'value', 'style': 'BAR', 'color': '#0000ff', 'label': 'Plot 1'}\n",
    "            ]\n",
    "        }\n",
    "    }\n",
    "}, {\n",
    "    'type': 'scalar',\n",
    "    'id': 'output_id_2',\n",
    "    'config': {\n",
    "        'title': 'My Title'\n",
    "    },\n",
    "    'value': 5\n",
    "}]\n",
    "```\n",
    "\n",
    "For this report, there is one output, which is a dataframe with two columns. For a grouping of 'Day', the first column contains ISO-8601 date strings. For any other grouping option, the first column contains categorical string values. The second column contains numerical values representing the throughput.\n",
    "\n",
    "| started_at                 | throughput    |\n",
    "|----------------------------|---------------|\n",
    "| '2020-09-29'               | 23            |\n",
    "| '2020-09-30'               | 45            |\n",
    "| '2020-10-01'               | 30            |\n",
    "\n",
    "The graph configuration specifies a single plot, where the x-axis is the group values and the y-axis is the throughput. We use Pandas to convert the dataframe built in the previous cells into a tabular format and then return that with the result object."
   ]
  },
  {
   "cell_type": "code",
   "execution_count": null,
   "metadata": {},
   "outputs": [],
   "source": [
    "df_dict = {\n",
    "    'columns': pd.io.json.build_table_schema(df_results, index=False)['fields'],\n",
    "    'values': df_results.values.tolist(),\n",
    "}\n",
    "\n",
    "results_graph = {\n",
    "    'type': 'data_frame',\n",
    "    'id': 'results_graph',\n",
    "    'data': df_dict\n",
    "}\n",
    "\n",
    "result = [results_graph]"
   ]
  },
  {
   "cell_type": "markdown",
   "metadata": {},
   "source": [
    "### Record results with Scrapbook"
   ]
  },
  {
   "cell_type": "code",
   "execution_count": null,
   "metadata": {},
   "outputs": [],
   "source": [
    "sb.glue('result', result)"
   ]
  },
  {
   "cell_type": "code",
   "execution_count": null,
   "metadata": {},
   "outputs": [],
   "source": []
  }
 ],
 "metadata": {
  "kernelspec": {
   "display_name": "Python 3",
   "language": "python",
   "name": "python3"
  },
  "language_info": {
   "codemirror_mode": {
    "name": "ipython",
    "version": 3
   },
   "file_extension": ".py",
   "mimetype": "text/x-python",
   "name": "python",
   "nbconvert_exporter": "python",
   "pygments_lexer": "ipython3",
   "version": "3.8.5"
  }
 },
 "nbformat": 4,
 "nbformat_minor": 4
}
