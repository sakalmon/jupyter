{
 "cells": [
  {
   "cell_type": "markdown",
   "metadata": {},
   "source": [
    "# Throughput\n",
    "This notebook creates a throughput report for test results. It ties into the **Test Monitor Service** for retrieving filtered test results, the **Notebook Execution Service** for running outside of Jupyterhub, and the **Test Monitor Reports page** at #testmonitor/reports for displaying results.\n",
    "\n",
    "The parameters and output use a schema recognized by the Test Monitor Reports page, which can be implemented by various report types. The Throughput notebook produces data that is best shown in a bar graph."
   ]
  },
  {
   "cell_type": "markdown",
   "metadata": {},
   "source": [
    "### Imports\n",
    "Import Python modules for executing the notebook. Pandas is used for building and handling dataframes. Scrapbook is used for recording data for the Notebook Execution Service. The SystemLink Test Monitor Client provides access to test result data for processing."
   ]
  },
  {
   "cell_type": "code",
   "execution_count": 1,
   "metadata": {},
   "outputs": [],
   "source": [
    "import copy\n",
    "import datetime\n",
    "import pandas as pd\n",
    "import scrapbook as sb\n",
    "from dateutil import tz\n",
    "\n",
    "import systemlink.clients.nitestmonitor as testmon"
   ]
  },
  {
   "cell_type": "markdown",
   "metadata": {},
   "source": [
    "### Parameters\n",
    "- `results_filter`: Dynamic Linq query filter for test results from the Test Monitor Service  \n",
    "  Options: Any valid Test Monitor Results Dynamic Linq filter  \n",
    "  Default: `'startedWithin <= \"30.0:0:0\"'`\n",
    "- `group_by`: The dimension along which to reduce; what each bar in the output graph represents  \n",
    "  Options: Day, System, Test Program, Operator, Part Number  \n",
    "  Default: Day\n",
    "\n",
    "Parameters are also listed in the metadata for the parameters cell, along with their default values. The Notebook Execution services uses that metadata to pass parameters from the Test Monitor Reports page to this notebook. Available `group_by` options are listed in the metadata as well; the Test Monitor Reports page uses these to validate inputs sent to the notebook.\n",
    "\n",
    "To see the metadata, select the code cell and click the wrench icon in the far left panel."
   ]
  },
  {
   "cell_type": "code",
   "execution_count": 2,
   "metadata": {
    "papermill": {
     "parameters": {
      "group_by": "Day",
      "products_filter": "",
      "results_filter": "startedWithin <= \"30.0:0:0\""
     }
    },
    "systemlink": {
     "namespaces": [
      "ni-testmanagement"
     ],
     "outputs": [
      {
       "display_name": "Throughput",
       "id": "throughput_graph",
       "type": "data_frame"
      }
     ],
     "parameters": [
      {
       "display_name": "Group By",
       "id": "group_by",
       "options": [
        "Day",
        "System",
        "Test Program",
        "Operator",
        "Part Number",
        "Workspace"
       ],
       "type": "string"
      },
      {
       "default_display": {
        "products_filter": [],
        "results_filter": [
         {
          "queryOperandUnit": "DAYS",
          "queryOperandValue": 30,
          "queryOperator": "LESS_THAN_OR_EQUAL",
          "queryOperatorName": "startedWithin"
         }
        ]
       },
       "display_name": "Query by",
       "id": "results_filter",
       "type": "test_monitor_result_query"
      }
     ],
     "version": 2
    },
    "tags": [
     "parameters"
    ]
   },
   "outputs": [],
   "source": [
    "results_filter = 'startedWithin <= \"30.0:0:0\"'\n",
    "products_filter = ''\n",
    "group_by = 'Day'"
   ]
  },
  {
   "cell_type": "markdown",
   "metadata": {},
   "source": [
    "### Mapping from grouping options to Test Monitor terminology\n",
    "Translate the grouping options shown in the Test Monitor Reports page to keywords recognized by the Test Monitor API."
   ]
  },
  {
   "cell_type": "code",
   "execution_count": 3,
   "metadata": {},
   "outputs": [],
   "source": [
    "groups_map = {\n",
    "    'Day': 'started_at',\n",
    "    'System': 'host_name',\n",
    "    'Test Program': 'program_name',\n",
    "    'Operator': 'operator',\n",
    "    'Part Number': 'part_number',\n",
    "    'Workspace': 'workspace',\n",
    "}\n",
    "grouping = groups_map[group_by]"
   ]
  },
  {
   "cell_type": "markdown",
   "metadata": {},
   "source": [
    "### Create Test Monitor client\n",
    "Establish a connection to SystemLink over HTTP."
   ]
  },
  {
   "cell_type": "code",
   "execution_count": 4,
   "metadata": {},
   "outputs": [],
   "source": [
    "results_api = testmon.ResultsApi()"
   ]
  },
  {
   "cell_type": "markdown",
   "metadata": {},
   "source": [
    "### Query for results\n",
    "Query the Test Monitor Service for results matching the `results_filter` parameter."
   ]
  },
  {
   "cell_type": "code",
   "execution_count": 5,
   "metadata": {},
   "outputs": [],
   "source": [
    "results_query = testmon.ResultsAdvancedQuery(\n",
    "    results_filter, product_filter=products_filter, order_by=testmon.ResultField.STARTED_AT\n",
    ")\n",
    "\n",
    "results = []\n",
    "\n",
    "response = await results_api.query_results_v2(post_body=results_query)\n",
    "while response.continuation_token:\n",
    "    results = results + response.results\n",
    "    results_query.continuation_token = response.continuation_token\n",
    "    response = await results_api.query_results_v2(post_body=results_query)\n",
    "\n",
    "results_list = [result.to_dict() for result in results]"
   ]
  },
  {
   "cell_type": "markdown",
   "metadata": {},
   "source": [
    "### Get group names\n",
    "Collect the group name for each result based on the `group_by` parameter."
   ]
  },
  {
   "cell_type": "code",
   "execution_count": 6,
   "metadata": {},
   "outputs": [],
   "source": [
    "group_names = []\n",
    "for result in results_list:\n",
    "    if grouping != \"host_name\":\n",
    "        if grouping in result:\n",
    "            group_names.append(result[grouping])\n",
    "    else:\n",
    "        if 'properties' in result:\n",
    "            group_names.append(result['properties']['Location'])       "
   ]
  },
  {
   "cell_type": "markdown",
   "metadata": {},
   "source": [
    "### Create pandas dataframe\n",
    "Put the data into a dataframe whose columns are test result id, start time, and group name."
   ]
  },
  {
   "cell_type": "code",
   "execution_count": 7,
   "metadata": {},
   "outputs": [],
   "source": [
    "formatted_results = {\n",
    "    'id': [result['id'] for result in results_list],\n",
    "    'started_at': [result['started_at'] for result in results_list],\n",
    "    grouping: group_names\n",
    "}\n",
    "\n",
    "df_results = pd.DataFrame.from_dict(formatted_results)\n",
    "\n",
    "#convert UTC timezone to local timezone\n",
    "to_zone = tz.tzlocal()\n",
    "utc = df_results['started_at']\n",
    "def astimezone(x):\n",
    "    return x.astimezone(to_zone)\n",
    "# Convert time zone\n",
    "central = utc.apply(astimezone)\n",
    "df_results = pd.concat([df_results.drop(['started_at'],axis=1), central],axis=1)\n"
   ]
  },
  {
   "cell_type": "markdown",
   "metadata": {},
   "source": [
    "### Handle grouping by day\n",
    "The start time of each test is composed of both the date and the time when the test started in UTC. To group all test results from a single day together, convert to server time and remove time information from the group name."
   ]
  },
  {
   "cell_type": "code",
   "execution_count": 8,
   "metadata": {},
   "outputs": [
    {
     "data": {
      "text/html": [
       "<div>\n",
       "<style scoped>\n",
       "    .dataframe tbody tr th:only-of-type {\n",
       "        vertical-align: middle;\n",
       "    }\n",
       "\n",
       "    .dataframe tbody tr th {\n",
       "        vertical-align: top;\n",
       "    }\n",
       "\n",
       "    .dataframe thead th {\n",
       "        text-align: right;\n",
       "    }\n",
       "</style>\n",
       "<table border=\"1\" class=\"dataframe\">\n",
       "  <thead>\n",
       "    <tr style=\"text-align: right;\">\n",
       "      <th></th>\n",
       "      <th>id</th>\n",
       "      <th>started_at</th>\n",
       "    </tr>\n",
       "  </thead>\n",
       "  <tbody>\n",
       "    <tr>\n",
       "      <th>0</th>\n",
       "      <td>6088b393ca744a435c3bc221</td>\n",
       "      <td>2021-04-28 10:00:00</td>\n",
       "    </tr>\n",
       "    <tr>\n",
       "      <th>1</th>\n",
       "      <td>6088b393ca744a435c3bc227</td>\n",
       "      <td>2021-04-28 10:00:00</td>\n",
       "    </tr>\n",
       "    <tr>\n",
       "      <th>2</th>\n",
       "      <td>6088b393ca744a435c3bc22d</td>\n",
       "      <td>2021-04-28 10:00:00</td>\n",
       "    </tr>\n",
       "    <tr>\n",
       "      <th>3</th>\n",
       "      <td>6088b394ca744a435c3bc233</td>\n",
       "      <td>2021-04-28 10:00:00</td>\n",
       "    </tr>\n",
       "    <tr>\n",
       "      <th>4</th>\n",
       "      <td>6088b394ca744a435c3bc239</td>\n",
       "      <td>2021-04-28 10:00:00</td>\n",
       "    </tr>\n",
       "    <tr>\n",
       "      <th>...</th>\n",
       "      <td>...</td>\n",
       "      <td>...</td>\n",
       "    </tr>\n",
       "    <tr>\n",
       "      <th>4095</th>\n",
       "      <td>608b5846ca744a435c3da479</td>\n",
       "      <td>2021-04-30 11:00:00</td>\n",
       "    </tr>\n",
       "    <tr>\n",
       "      <th>4096</th>\n",
       "      <td>608b5846ca744a435c3da47f</td>\n",
       "      <td>2021-04-30 11:00:00</td>\n",
       "    </tr>\n",
       "    <tr>\n",
       "      <th>4097</th>\n",
       "      <td>608b5849ca744a435c3da491</td>\n",
       "      <td>2021-04-30 11:00:00</td>\n",
       "    </tr>\n",
       "    <tr>\n",
       "      <th>4098</th>\n",
       "      <td>608b5849ca744a435c3da493</td>\n",
       "      <td>2021-04-30 11:00:00</td>\n",
       "    </tr>\n",
       "    <tr>\n",
       "      <th>4099</th>\n",
       "      <td>60920575ca744acb34b80542</td>\n",
       "      <td>2021-05-05 12:00:00</td>\n",
       "    </tr>\n",
       "  </tbody>\n",
       "</table>\n",
       "<p>4100 rows × 2 columns</p>\n",
       "</div>"
      ],
      "text/plain": [
       "                            id           started_at\n",
       "0     6088b393ca744a435c3bc221  2021-04-28 10:00:00\n",
       "1     6088b393ca744a435c3bc227  2021-04-28 10:00:00\n",
       "2     6088b393ca744a435c3bc22d  2021-04-28 10:00:00\n",
       "3     6088b394ca744a435c3bc233  2021-04-28 10:00:00\n",
       "4     6088b394ca744a435c3bc239  2021-04-28 10:00:00\n",
       "...                        ...                  ...\n",
       "4095  608b5846ca744a435c3da479  2021-04-30 11:00:00\n",
       "4096  608b5846ca744a435c3da47f  2021-04-30 11:00:00\n",
       "4097  608b5849ca744a435c3da491  2021-04-30 11:00:00\n",
       "4098  608b5849ca744a435c3da493  2021-04-30 11:00:00\n",
       "4099  60920575ca744acb34b80542  2021-05-05 12:00:00\n",
       "\n",
       "[4100 rows x 2 columns]"
      ]
     },
     "metadata": {},
     "output_type": "display_data"
    }
   ],
   "source": [
    "df_results_copy = copy.copy(df_results)\n",
    "df_results_copy.fillna(value='', inplace=True)\n",
    "\n",
    "truncated_times = []\n",
    "for val in df_results_copy['started_at']:\n",
    "    local_time = val.astimezone(tz.tzlocal())\n",
    "    truncated_times.append(str(datetime.datetime(local_time.year, local_time.month, local_time.day,local_time.hour)))\n",
    "df_results_copy['started_at'] = truncated_times\n",
    "\n",
    "display(df_results_copy)"
   ]
  },
  {
   "cell_type": "markdown",
   "metadata": {},
   "source": [
    "### Throughput calculation\n",
    "Get the number of unique tests for each group."
   ]
  },
  {
   "cell_type": "code",
   "execution_count": 9,
   "metadata": {},
   "outputs": [],
   "source": [
    "df_throughput = df_results_copy.groupby(grouping).agg({'id': 'count'})\n",
    "df_throughput = df_throughput.reset_index().set_axis([grouping, 'throughput'], axis=1)\n",
    "\n",
    "if grouping == 'started_at':\n",
    "    df_throughput['started_at'] = pd.to_datetime(df_throughput['started_at'])\n",
    "else:\n",
    "    df_throughput.sort_values(by=['throughput'], ascending=True, inplace=True)"
   ]
  },
  {
   "cell_type": "markdown",
   "metadata": {},
   "source": [
    "### Convert the dataframe to the SystemLink reports output format\n",
    "The result format for a SystemLink report consists of a list of output objects as defined below:\n",
    "- `type`: The type of the output. Accepted values are 'data_frame' and 'scalar'.\n",
    "- `id`: Corresponds to the id specified in the 'output' metadata. Used for returning multiple outputs with the 'V2' report format.\n",
    "- `data`: A dict representing the 'data_frame' type output data.\n",
    "    - `columns`: A list of dicts containing the names and data type for each column in the dataframe.\n",
    "    - `values`: A list of lists containing the dataframe values. The sublists are ordered according to the 'columns' configuration.\n",
    "- `value`: The value returned for the 'scalar' output type.\n",
    "- `config`: The configurations for the given output.\n",
    "    - `title`: The output title.\n",
    "    - `graph`: The graph configurations.\n",
    "        - `axis_labels`: The x-axis label and y-axis label.\n",
    "        - `plots`: A list of plots to display mapped from the dataframe's columns, along with configuration options.\n",
    "            - `x`: The dataframe column corresponding to the x-axis values.\n",
    "            - `y`: The dataframe column corresponding to the y-axis values.\n",
    "            - `style`: The plot's style. Accepted values are ['LINE', 'BAR', 'SCATTER'].\n",
    "            - `color`: The plot's color. Accepted formats are ['blue', '#0000ff', 'rbg(0,0,255)'].\n",
    "            - `label`: The plot's name, to be shown in a plot legend. \n",
    "            - `secondary_y`: Whether or not to display this plot on a second y-axis.\n",
    "            - `group_by`: A list of columns in the dataframe on which to group data, e.g. to color individual points.\n",
    "        - `orientation`: 'HORIZONTAL' or 'VERTICAL'.\n",
    "        - `stacked`: Whether or not to display the plots stacked on top of each other.\n",
    "\n",
    "Here is an example of a notebook result with two outputs, one of which is a dataframe with two columns, and the other is a scalar value:\n",
    "```\n",
    "[{\n",
    "    'type': 'data_frame',\n",
    "    'id': 'output_id_1',\n",
    "    'data': {\n",
    "        'columns': [\n",
    "            {'name': 'time', 'type': 'datetime'},\n",
    "            {'name': 'value', 'type': 'number'}\n",
    "         ],\n",
    "        'values': [\n",
    "            ['2020-09-29T00:00:00.000Z', 46.1538461538],\n",
    "            ['2020-09-30T00:00:00.000Z', 63.1578947368],\n",
    "            ...\n",
    "         ]\n",
    "    },\n",
    "    'config': {\n",
    "        'title': 'My Title',\n",
    "        'graph': {\n",
    "            'axis_labels': ['X Axis', 'Y Axis'],\n",
    "            'orientation': 'VERTICAL',\n",
    "            'plots': [\n",
    "                {'x': 'time', 'y': 'value', 'style': 'BAR', 'color': '#0000ff', 'label': 'Plot 1'}\n",
    "            ]\n",
    "        }\n",
    "    }\n",
    "}, {\n",
    "    'type': 'scalar',\n",
    "    'id': 'output_id_2',\n",
    "    'config': {\n",
    "        'title': 'My Title'\n",
    "    },\n",
    "    'value': 5\n",
    "}]\n",
    "```\n",
    "\n",
    "For this report, there is one output, which is a dataframe with two columns. For a grouping of 'Day', the first column contains ISO-8601 date strings. For any other grouping option, the first column contains categorical string values. The second column contains numerical values representing the throughput.\n",
    "\n",
    "| started_at                 | throughput    |\n",
    "|----------------------------|---------------|\n",
    "| '2020-09-29'               | 23            |\n",
    "| '2020-09-30'               | 45            |\n",
    "| '2020-10-01'               | 30            |\n",
    "\n",
    "The graph configuration specifies a single plot, where the x-axis is the group values and the y-axis is the throughput. We use Pandas to convert the dataframe built in the previous cells into a tabular format and then return that with the result object."
   ]
  },
  {
   "cell_type": "code",
   "execution_count": 10,
   "metadata": {},
   "outputs": [
    {
     "data": {
      "text/plain": [
       "[{'type': 'data_frame',\n",
       "  'id': 'throughput_graph',\n",
       "  'data': {'columns': [{'name': 'started_at', 'type': 'datetime'},\n",
       "    {'name': 'throughput', 'type': 'integer'}],\n",
       "   'values': [[Timestamp('2021-04-28 10:00:00'), 8],\n",
       "    [Timestamp('2021-04-28 11:00:00'), 160],\n",
       "    [Timestamp('2021-04-28 12:00:00'), 537],\n",
       "    [Timestamp('2021-04-28 13:00:00'), 248],\n",
       "    [Timestamp('2021-04-28 14:00:00'), 360],\n",
       "    [Timestamp('2021-04-28 15:00:00'), 82],\n",
       "    [Timestamp('2021-04-28 16:00:00'), 445],\n",
       "    [Timestamp('2021-04-28 17:00:00'), 350],\n",
       "    [Timestamp('2021-04-28 18:00:00'), 479],\n",
       "    [Timestamp('2021-04-28 19:00:00'), 204],\n",
       "    [Timestamp('2021-04-28 20:00:00'), 511],\n",
       "    [Timestamp('2021-04-28 21:00:00'), 486],\n",
       "    [Timestamp('2021-04-28 22:00:00'), 80],\n",
       "    [Timestamp('2021-04-29 14:00:00'), 1],\n",
       "    [Timestamp('2021-04-30 09:00:00'), 126],\n",
       "    [Timestamp('2021-04-30 10:00:00'), 16],\n",
       "    [Timestamp('2021-04-30 11:00:00'), 6],\n",
       "    [Timestamp('2021-05-05 12:00:00'), 1]]},\n",
       "  'config': {'title': 'Throughput by Day',\n",
       "   'graph': {'axis_labels': ['Day', 'Throughput'],\n",
       "    'plots': [{'x': 'started_at', 'y': 'throughput', 'style': 'BAR'}],\n",
       "    'orientation': 'VERTICAL'}}}]"
      ]
     },
     "metadata": {},
     "output_type": "display_data"
    }
   ],
   "source": [
    "df_throughput[grouping].replace(r'^$', 'No ' + group_by, regex=True, inplace=True)\n",
    "\n",
    "df_dict = {\n",
    "    'columns': pd.io.json.build_table_schema(df_throughput, index=False)['fields'],\n",
    "    'values': df_throughput.values.tolist(),\n",
    "}\n",
    "\n",
    "throughput_graph = {\n",
    "    'type': 'data_frame',\n",
    "    'id': 'throughput_graph',\n",
    "    'data': df_dict,\n",
    "    'config': {\n",
    "        'title': 'Throughput by {}'.format(group_by),\n",
    "        'graph': {\n",
    "            'axis_labels': [group_by, 'Throughput'],\n",
    "            'plots': [\n",
    "                {'x': grouping, 'y': 'throughput', 'style': 'BAR'}\n",
    "            ]\n",
    "        }\n",
    "    }\n",
    "}\n",
    "\n",
    "if grouping == 'started_at':\n",
    "    throughput_graph['config']['graph']['orientation'] = 'VERTICAL'\n",
    "else:\n",
    "    throughput_graph['config']['graph']['orientation'] = 'HORIZONTAL'\n",
    "    throughput_graph['config']['graph']['plots'][0]['group_by'] = [grouping]\n",
    "\n",
    "result = [throughput_graph]\n",
    "display(result)"
   ]
  },
  {
   "cell_type": "markdown",
   "metadata": {},
   "source": [
    "### Record results with Scrapbook"
   ]
  },
  {
   "cell_type": "code",
   "execution_count": 11,
   "metadata": {},
   "outputs": [
    {
     "data": {
      "application/scrapbook.scrap.json+json": {
       "data": [
        {
         "config": {
          "graph": {
           "axis_labels": [
            "Day",
            "Throughput"
           ],
           "orientation": "VERTICAL",
           "plots": [
            {
             "style": "BAR",
             "x": "started_at",
             "y": "throughput"
            }
           ]
          },
          "title": "Throughput by Day"
         },
         "data": {
          "columns": [
           {
            "name": "started_at",
            "type": "datetime"
           },
           {
            "name": "throughput",
            "type": "integer"
           }
          ],
          "values": [
           [
            "2021-04-28T10:00:00.000000",
            8
           ],
           [
            "2021-04-28T11:00:00.000000",
            160
           ],
           [
            "2021-04-28T12:00:00.000000",
            537
           ],
           [
            "2021-04-28T13:00:00.000000",
            248
           ],
           [
            "2021-04-28T14:00:00.000000",
            360
           ],
           [
            "2021-04-28T15:00:00.000000",
            82
           ],
           [
            "2021-04-28T16:00:00.000000",
            445
           ],
           [
            "2021-04-28T17:00:00.000000",
            350
           ],
           [
            "2021-04-28T18:00:00.000000",
            479
           ],
           [
            "2021-04-28T19:00:00.000000",
            204
           ],
           [
            "2021-04-28T20:00:00.000000",
            511
           ],
           [
            "2021-04-28T21:00:00.000000",
            486
           ],
           [
            "2021-04-28T22:00:00.000000",
            80
           ],
           [
            "2021-04-29T14:00:00.000000",
            1
           ],
           [
            "2021-04-30T09:00:00.000000",
            126
           ],
           [
            "2021-04-30T10:00:00.000000",
            16
           ],
           [
            "2021-04-30T11:00:00.000000",
            6
           ],
           [
            "2021-05-05T12:00:00.000000",
            1
           ]
          ]
         },
         "id": "throughput_graph",
         "type": "data_frame"
        }
       ],
       "encoder": "json",
       "name": "result",
       "version": 1
      }
     },
     "metadata": {
      "scrapbook": {
       "data": true,
       "display": false,
       "name": "result"
      }
     },
     "output_type": "display_data"
    }
   ],
   "source": [
    "sb.glue('result', result)"
   ]
  }
 ],
 "metadata": {
  "kernelspec": {
   "display_name": "Python 3",
   "language": "python",
   "name": "python3"
  },
  "language_info": {
   "codemirror_mode": {
    "name": "ipython",
    "version": 3
   },
   "file_extension": ".py",
   "mimetype": "text/x-python",
   "name": "python",
   "nbconvert_exporter": "python",
   "pygments_lexer": "ipython3",
   "version": "3.8.5"
  }
 },
 "nbformat": 4,
 "nbformat_minor": 4
}
