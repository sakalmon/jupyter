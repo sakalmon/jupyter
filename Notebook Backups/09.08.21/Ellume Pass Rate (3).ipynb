{
 "cells": [
  {
   "cell_type": "markdown",
   "metadata": {},
   "source": [
    "# Pass Rate\n",
    "This notebook creates a pass rate report for test results. It ties into the **Test Monitor Service** for retrieving filtered test results, the **Notebook Execution Service** for running outside of Jupyterhub, and the **Test Monitor Reports page** at #testmonitor/reports for displaying results.\n",
    "\n",
    "The parameters and output use a schema recognized by the Test Monitor Reports page, which can be implemented by various report types. The Pass Rate notebook produces data that is best shown in a bar graph."
   ]
  },
  {
   "cell_type": "markdown",
   "metadata": {},
   "source": [
    "### Imports\n",
    "Import Python modules for executing the notebook. Pandas is used for building and handling dataframes. Scrapbook is used for recording data for the Notebook Execution Service. The SystemLink Test Monitor Client provides access to test result data for processing."
   ]
  },
  {
   "cell_type": "code",
   "execution_count": 1,
   "metadata": {},
   "outputs": [],
   "source": [
    "import copy\n",
    "import datetime\n",
    "import pandas as pd\n",
    "import scrapbook as sb\n",
    "from dateutil import tz\n",
    "\n",
    "import systemlink.clients.nitestmonitor as testmon"
   ]
  },
  {
   "cell_type": "markdown",
   "metadata": {},
   "source": [
    "### Parameters\n",
    "- `group_by`: The dimension along which to reduce; what each bar in the output graph represents  \n",
    "  Options: Day, System, Test Program, Operator, Part Number  \n",
    "  Default: Day\n",
    "- `results_filter`: Dynamic Linq query filter for test results from the Test Monitor Service  \n",
    "  Options: Any valid Test Monitor Results Dynamic Linq filter  \n",
    "  Default: `'startedWithin <= \"30.0:0:0\"'`\n",
    "\n",
    "Parameters are also listed in the metadata for the parameters cell, along with their default values. The Notebook Execution services uses that metadata to pass parameters from the Test Monitor Reports page to this notebook. Available `group_by` options are listed in the metadata as well; the Test Monitor Reports page uses these to validate inputs sent to the notebook.\n",
    "\n",
    "To see the metadata, select the code cell and click the wrench icon in the far left panel."
   ]
  },
  {
   "cell_type": "code",
   "execution_count": 9,
   "metadata": {
    "papermill": {
     "parameters": {
      "group_by": "Day",
      "products_filter": "",
      "results_filter": "startedWithin <= \"30.0:0:0\""
     }
    },
    "systemlink": {
     "namespaces": [
      "ni-testmanagement"
     ],
     "outputs": [
      {
       "display_name": "Pass Rate",
       "id": "pass_rate_graph",
       "type": "data_frame"
      }
     ],
     "parameters": [
      {
       "display_name": "Group By",
       "id": "group_by",
       "options": [
        "Day",
        "System",
        "Test Program",
        "Operator",
        "Part Number",
        "Workspace"
       ],
       "type": "string"
      },
      {
       "default_display": {
        "products_filter": [],
        "results_filter": [
         {
          "queryOperandUnit": "DAYS",
          "queryOperandValue": 30,
          "queryOperator": "LESS_THAN_OR_EQUAL",
          "queryOperatorName": "startedWithin"
         }
        ]
       },
       "display_name": "Query by",
       "id": "results_filter",
       "type": "test_monitor_result_query"
      }
     ],
     "version": 2
    },
    "tags": [
     "parameters"
    ]
   },
   "outputs": [],
   "source": [
    "results_filter = 'startedWithin <= \"30.0:0:0\"'\n",
    "products_filter = ''\n",
    "group_by = 'System'"
   ]
  },
  {
   "cell_type": "markdown",
   "metadata": {},
   "source": [
    "### Mapping from grouping options to Test Monitor terminology\n",
    "Translate the grouping options shown in the Test Monitor Reports page to keywords recognized by the Test Monitor API."
   ]
  },
  {
   "cell_type": "code",
   "execution_count": 10,
   "metadata": {},
   "outputs": [],
   "source": [
    "groups_map = {\n",
    "    'Day': 'started_at',\n",
    "    'System': 'host_name',\n",
    "    'Test Program': 'program_name',\n",
    "    'Operator': 'operator',\n",
    "    'Part Number': 'part_number',\n",
    "    'Workspace': 'workspace'\n",
    "}\n",
    "grouping = groups_map[group_by]"
   ]
  },
  {
   "cell_type": "markdown",
   "metadata": {},
   "source": [
    "### Create Test Monitor client\n",
    "Establish a connection to SystemLink over HTTP."
   ]
  },
  {
   "cell_type": "code",
   "execution_count": 4,
   "metadata": {},
   "outputs": [],
   "source": [
    "results_api = testmon.ResultsApi()"
   ]
  },
  {
   "cell_type": "markdown",
   "metadata": {},
   "source": [
    "### Query for results\n",
    "Query the Test Monitor Service for results matching the `results_filter` parameter."
   ]
  },
  {
   "cell_type": "code",
   "execution_count": 11,
   "metadata": {},
   "outputs": [],
   "source": [
    "results_query = testmon.ResultsAdvancedQuery(\n",
    "    results_filter, product_filter=products_filter, order_by=testmon.ResultField.STARTED_AT, take=1000\n",
    ")\n",
    "\n",
    "results = []\n",
    "\n",
    "response = await results_api.query_results_v2(post_body=results_query)\n",
    "while response.continuation_token:\n",
    "    results = results + response.results\n",
    "    results_query.continuation_token = response.continuation_token\n",
    "    response = await results_api.query_results_v2(post_body=results_query)\n",
    "\n",
    "results_list = [result.to_dict() for result in results]"
   ]
  },
  {
   "cell_type": "markdown",
   "metadata": {},
   "source": [
    "### Get group names\n",
    "Collect the group name for each result based on the `group_by` parameter."
   ]
  },
  {
   "cell_type": "code",
   "execution_count": 12,
   "metadata": {},
   "outputs": [],
   "source": [
    "group_names = []\n",
    "for result in results_list:\n",
    "    if grouping != \"host_name\":\n",
    "        if grouping in result:\n",
    "            group_names.append(result[grouping])\n",
    "    else:\n",
    "        if 'properties' in result:\n",
    "            group_names.append(result['properties']['Location'])    "
   ]
  },
  {
   "cell_type": "markdown",
   "metadata": {},
   "source": [
    "### Create pandas dataframe\n",
    "Put the data into a dataframe whose columns are test result id, status, and group name."
   ]
  },
  {
   "cell_type": "code",
   "execution_count": 15,
   "metadata": {},
   "outputs": [],
   "source": [
    "formatted_results = {\n",
    "    'id': [result['id'] for result in results_list],\n",
    "    'status': [result['status']['status_type'] if result['status'] else None for result in results_list],\n",
    "    grouping: group_names\n",
    "}\n",
    "\n",
    "df_results = pd.DataFrame.from_dict(formatted_results)"
   ]
  },
  {
   "cell_type": "markdown",
   "metadata": {},
   "source": [
    "### Handle grouping by day\n",
    "If the grouping is by day, the group name is the date and time when the test started in UTC. To group all test results from a single day together, convert to server time and remove time information from the group name."
   ]
  },
  {
   "cell_type": "code",
   "execution_count": 10,
   "metadata": {},
   "outputs": [],
   "source": [
    "df_results_copy = copy.copy(df_results)\n",
    "df_results_copy.fillna(value='', inplace=True)\n",
    "\n",
    "if grouping == 'started_at':\n",
    "    truncated_times = []\n",
    "    for val in df_results_copy[grouping]:\n",
    "        local_time = val.astimezone(tz.tzlocal())\n",
    "        truncated_times.append(str(datetime.date(local_time.year, local_time.month, local_time.day)))\n",
    "    df_results_copy[grouping] = truncated_times"
   ]
  },
  {
   "cell_type": "markdown",
   "metadata": {},
   "source": [
    "### Aggregate results into groups\n",
    "Aggregate the data for each unique group and status.\n",
    "\n",
    "*See documentation for [size](https://pandas.pydata.org/pandas-docs/stable/generated/pandas.DataFrame.size.html) and [unstack](https://pandas.pydata.org/pandas-docs/stable/generated/pandas.DataFrame.unstack.html) here.*"
   ]
  },
  {
   "cell_type": "code",
   "execution_count": 11,
   "metadata": {},
   "outputs": [],
   "source": [
    "df_grouped = df_results_copy.groupby([grouping, 'status']).size().unstack(fill_value=0)\n",
    "if 'PASSED' not in df_grouped:\n",
    "    df_grouped['PASSED'] = 0\n",
    "if 'FAILED' not in df_grouped:\n",
    "    df_grouped['FAILED'] = 0\n",
    "if 'ERRORED' not in df_grouped:\n",
    "    df_grouped['ERRORED'] = 0"
   ]
  },
  {
   "cell_type": "markdown",
   "metadata": {},
   "source": [
    "### Pass Rate calculation\n",
    "Divide the number of passed tests by the total number of tests."
   ]
  },
  {
   "cell_type": "code",
   "execution_count": 12,
   "metadata": {},
   "outputs": [],
   "source": [
    "df_pass_rate = pd.DataFrame(100 * df_grouped['PASSED'] / (df_grouped['FAILED'] + df_grouped['ERRORED'] + df_grouped['PASSED']))\n",
    "df_pass_rate = df_pass_rate.reset_index().set_axis([grouping, 'pass_rate'], axis=1)\n",
    "\n",
    "if grouping == 'started_at':\n",
    "    df_pass_rate['started_at'] = pd.to_datetime(df_pass_rate['started_at'])\n",
    "else:\n",
    "    df_pass_rate.sort_values(by=['pass_rate'], ascending=True, inplace=True)"
   ]
  },
  {
   "cell_type": "markdown",
   "metadata": {},
   "source": [
    "### Convert the dataframe to the SystemLink reports output format\n",
    "The result format for a SystemLink report consists of a list of output objects as defined below:\n",
    "- `type`: The type of the output. Accepted values are 'data_frame' and 'scalar'.\n",
    "- `id`: Corresponds to the id specified in the 'output' metadata. Used for returning multiple outputs with the 'V2' report format.\n",
    "- `data`: A dict representing the 'data_frame' type output data.\n",
    "    - `columns`: A list of dicts containing the names and data type for each column in the dataframe.\n",
    "    - `values`: A list of lists containing the dataframe values. The sublists are ordered according to the 'columns' configuration.\n",
    "- `value`: The value returned for the 'scalar' output type.\n",
    "- `config`: The configurations for the given output.\n",
    "    - `title`: The output title.\n",
    "    - `graph`: The graph configurations.\n",
    "        - `axis_labels`: The x-axis label and y-axis label.\n",
    "        - `plots`: A list of plots to display mapped from the dataframe's columns, along with configuration options.\n",
    "            - `x`: The dataframe column corresponding to the x-axis values.\n",
    "            - `y`: The dataframe column corresponding to the y-axis values.\n",
    "            - `style`: The plot's style. Accepted values are ['LINE', 'BAR', 'SCATTER'].\n",
    "            - `color`: The plot's color. Accepted formats are ['blue', '#0000ff', 'rbg(0,0,255)'].\n",
    "            - `label`: The plot's name, to be shown in a plot legend. \n",
    "            - `secondary_y`: Whether or not to display this plot on a second y-axis.\n",
    "            - `group_by`: A list of columns in the dataframe on which to group data, e.g. to color individual points.\n",
    "        - `orientation`: 'HORIZONTAL' or 'VERTICAL'.\n",
    "        - `stacked`: Whether or not to display the plots stacked on top of each other.\n",
    "\n",
    "Here is an example of a notebook result with two outputs, one of which is a dataframe with two columns, and the other is a scalar value:\n",
    "```\n",
    "[{\n",
    "    'type': 'data_frame',\n",
    "    'id': 'output_id_1',\n",
    "    'data': {\n",
    "        'columns': [\n",
    "            {'name': 'time', 'type': 'datetime'},\n",
    "            {'name': 'value', 'type': 'number'}\n",
    "         ],\n",
    "        'values': [\n",
    "            ['2020-09-29T00:00:00.000Z', 46.1538461538],\n",
    "            ['2020-09-30T00:00:00.000Z', 63.1578947368],\n",
    "            ...\n",
    "         ]\n",
    "    },\n",
    "    'config': {\n",
    "        'title': 'My Title',\n",
    "        'graph': {\n",
    "            'axis_labels': ['X Axis', 'Y Axis'],\n",
    "            'orientation': 'VERTICAL',\n",
    "            'plots': [\n",
    "                {'x': 'time', 'y': 'value', 'style': 'BAR', 'color': '#0000ff', 'label': 'Plot 1'}\n",
    "            ]\n",
    "        }\n",
    "    }\n",
    "}, {\n",
    "    'type': 'scalar',\n",
    "    'id': 'output_id_2',\n",
    "    'config': {\n",
    "        'title': 'My Title'\n",
    "    },\n",
    "    'value': 5\n",
    "}]\n",
    "```\n",
    "\n",
    "For this report, there is one output, which is a dataframe with two columns. For a grouping of 'Day', the first column contains ISO-8601 date strings. For any other grouping option, the first column contains categorical string values. The second column contains numerical values representing the pass rate as a percentage.\n",
    "\n",
    "| started_at                 | pass_rate     |\n",
    "|----------------------------|---------------|\n",
    "| '2020-09-29'               | 46.1538461538 |\n",
    "| '2020-09-30'               | 63.1578947368 |\n",
    "| '2020-10-01'               | 60.0          |\n",
    "\n",
    "The graph configuration specifies a single plot, where the x-axis is the group values and the y-axis is the pass rate. We use Pandas to convert the dataframe built in the previous cells into a tabular format and then return that with the result object."
   ]
  },
  {
   "cell_type": "code",
   "execution_count": 13,
   "metadata": {},
   "outputs": [],
   "source": [
    "df_dict = {\n",
    "    'columns': pd.io.json.build_table_schema(df_pass_rate, index=False)['fields'],\n",
    "    'values': df_pass_rate.values.tolist(),\n",
    "}\n",
    "\n",
    "pass_rate_graph = {\n",
    "    'type': 'data_frame',\n",
    "    'id': 'pass_rate_graph',\n",
    "    'data': df_dict,\n",
    "    'config': {\n",
    "        'title': 'Pass Rate by {}'.format(group_by),\n",
    "        'graph': {\n",
    "            'axis_labels': [group_by, 'Pass Rate'],\n",
    "            'plots': [\n",
    "                {'x': grouping, 'y': 'pass_rate', 'style': 'BAR'}\n",
    "            ]\n",
    "        }\n",
    "    }\n",
    "}\n",
    "\n",
    "if grouping == 'started_at':\n",
    "    pass_rate_graph['config']['graph']['orientation'] = 'VERTICAL'\n",
    "else:\n",
    "    pass_rate_graph['config']['graph']['orientation'] = 'HORIZONTAL'\n",
    "    pass_rate_graph['config']['graph']['plots'][0]['group_by'] = [grouping]\n",
    "\n",
    "result = [pass_rate_graph]"
   ]
  },
  {
   "cell_type": "markdown",
   "metadata": {},
   "source": [
    "### Record results with Scrapbook"
   ]
  },
  {
   "cell_type": "code",
   "execution_count": 14,
   "metadata": {},
   "outputs": [
    {
     "data": {
      "application/scrapbook.scrap.json+json": {
       "data": [
        {
         "config": {
          "graph": {
           "axis_labels": [
            "Day",
            "Pass Rate"
           ],
           "orientation": "VERTICAL",
           "plots": [
            {
             "style": "BAR",
             "x": "started_at",
             "y": "pass_rate"
            }
           ]
          },
          "title": "Pass Rate by Day"
         },
         "data": {
          "columns": [
           {
            "name": "started_at",
            "type": "datetime"
           },
           {
            "name": "pass_rate",
            "type": "number"
           }
          ],
          "values": [
           [
            "2021-04-28T00:00:00.000000",
            89.04665314401623
           ],
           [
            "2021-04-29T00:00:00.000000",
            0
           ]
          ]
         },
         "id": "pass_rate_graph",
         "type": "data_frame"
        }
       ],
       "encoder": "json",
       "name": "result",
       "version": 1
      }
     },
     "metadata": {
      "scrapbook": {
       "data": true,
       "display": false,
       "name": "result"
      }
     },
     "output_type": "display_data"
    }
   ],
   "source": [
    "sb.glue('result', result)"
   ]
  },
  {
   "cell_type": "code",
   "execution_count": null,
   "metadata": {},
   "outputs": [],
   "source": []
  }
 ],
 "metadata": {
  "kernelspec": {
   "display_name": "Python 3",
   "language": "python",
   "name": "python3"
  },
  "language_info": {
   "codemirror_mode": {
    "name": "ipython",
    "version": 3
   },
   "file_extension": ".py",
   "mimetype": "text/x-python",
   "name": "python",
   "nbconvert_exporter": "python",
   "pygments_lexer": "ipython3",
   "version": "3.8.5"
  }
 },
 "nbformat": 4,
 "nbformat_minor": 4
}
