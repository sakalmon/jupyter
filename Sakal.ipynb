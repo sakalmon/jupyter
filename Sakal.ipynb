{
 "cells": [
  {
   "cell_type": "markdown",
   "metadata": {},
   "source": [
    "# Failure Pareto for Test Steps\n",
    "This notebook creates a failure pareto report for test steps. It ties into the **Test Monitor Service** for retrieving filtered test results and steps, the **Notebook Execution Service** for running outside of Jupyterhub, and the **Test Monitor Reports page** at #testmonitor/reports for displaying results.\n",
    "\n",
    "The parameters and output use a schema recognized by the Test Monitor Reports page, which can be implemented by various report types. The Failure Pareto notebook produces data that is best shown in a pareto chart."
   ]
  },
  {
   "cell_type": "markdown",
   "metadata": {},
   "source": [
    "### Imports\n",
    "Import Python modules for executing the notebook. Pandas is used for building and handling dataframes. Scrapbook is used for recording data for the Notebook Execution Service. The SystemLink Test Monitor Client provides access to test result data for processing."
   ]
  },
  {
   "cell_type": "code",
   "execution_count": 1,
   "metadata": {},
   "outputs": [],
   "source": [
    "import pandas as pd\n",
    "import scrapbook as sb\n",
    "\n",
    "import systemlink.clients.nitestmonitor as testmon"
   ]
  },
  {
   "cell_type": "markdown",
   "metadata": {},
   "source": [
    "### Parameters\n",
    "- `results_filter`: Dynamic Linq query filter for test results from the Test Monitor Service; for the Test Steps Failure Pareto, it is recommended to provide program names \n",
    "  Options: Any valid Test Monitor Results Dynamic Linq filter\n",
    "  Default: `'startedWithin <= \"30.0:0:0\"'`\n",
    "- `group_by`: The dimension along which to reduce; what each bar in the output graph represents  \n",
    "  Options: Path  \n",
    "  Default: Path\n",
    "\n",
    "Parameters are also listed in the metadata for the parameters cell, along with their default values. The Notebook Execution services uses that metadata to pass parameters from the Test Monitor Reports page to this notebook. Available `group_by` options are listed in the metadata as well; the Test Monitor Reports page uses these to validate inputs sent to the notebook.\n",
    "\n",
    "To see the metadata, select the code cell and click the wrench icon in the far left panel."
   ]
  },
  {
   "cell_type": "code",
   "execution_count": 2,
   "metadata": {
    "papermill": {
     "parameters": {
      "group_by": "Path",
      "products_filter": "",
      "results_filter": "startedWithin <= \"30.0:0:0\""
     }
    },
    "systemlink": {
     "namespaces": [
      "ni-testmanagement"
     ],
     "outputs": [
      {
       "display_name": "Failure Pareto - Steps",
       "id": "failure_pareto_steps_graph",
       "type": "data_frame"
      }
     ],
     "parameters": [
      {
       "display_name": "Group By",
       "id": "group_by",
       "options": [
        "Path"
       ],
       "type": "string"
      },
      {
       "default_display": {
        "products_filter": [],
        "results_filter": [
         {
          "queryOperandUnit": "DAYS",
          "queryOperandValue": 30,
          "queryOperator": "LESS_THAN_OR_EQUAL",
          "queryOperatorName": "startedWithin"
         }
        ]
       },
       "display_name": "Query by",
       "id": "results_filter",
       "type": "test_monitor_result_query"
      }
     ],
     "version": 2
    },
    "tags": [
     "parameters"
    ]
   },
   "outputs": [],
   "source": [
    "results_filter = 'workspaceName = \"EPL Manufacturing\" && startedWithin <= \"4\"'\n",
    "products_filter = ''\n",
    "group_by = 'Path'"
   ]
  },
  {
   "cell_type": "markdown",
   "metadata": {},
   "source": [
    "### Mapping from grouping options to Test Monitor terminology\n",
    "Translate the grouping options shown in the Test Monitor Reports page to keywords recognized by the Test Monitor API."
   ]
  },
  {
   "cell_type": "code",
   "execution_count": 3,
   "metadata": {},
   "outputs": [],
   "source": [
    "groups_map = {\n",
    "    'Path': 'path'\n",
    "}\n",
    "grouping = groups_map[group_by]"
   ]
  },
  {
   "cell_type": "markdown",
   "metadata": {},
   "source": [
    "### Create Test Monitor client\n",
    "Establish a connection to SystemLink over HTTP."
   ]
  },
  {
   "cell_type": "code",
   "execution_count": 4,
   "metadata": {},
   "outputs": [],
   "source": [
    "api_client = testmon.ApiClient()\n",
    "results_api = testmon.ResultsApi(api_client)\n",
    "steps_api = testmon.StepsApi(api_client)"
   ]
  },
  {
   "cell_type": "markdown",
   "metadata": {},
   "source": [
    "### Query for results\n",
    "Query the Test Monitor Service for results matching the `results_filter` parameter. Then query for all test steps in those results."
   ]
  },
  {
   "cell_type": "code",
   "execution_count": 5,
   "metadata": {},
   "outputs": [],
   "source": [
    "async def perform_batched_query(query_function, query, response_field):\n",
    "    results = []\n",
    "\n",
    "    response = await query_function(post_body=query)\n",
    "    while response.continuation_token:\n",
    "        results = results + getattr(response, response_field)\n",
    "        query.continuation_token = response.continuation_token\n",
    "        response = await query_function(post_body=query)\n",
    "    return results\n",
    "\n",
    "results_query = testmon.ResultsAdvancedQuery(\n",
    "    results_filter, product_filter=products_filter, order_by=testmon.ResultField.STARTED_AT, take=1000\n",
    ")\n",
    "\n",
    "results = await perform_batched_query(results_api.query_results_v2, results_query, 'results')\n",
    "results_list = [result.to_dict() for result in results]\n",
    "#display(results_list)\n",
    "\n",
    "#Get the unique (latest) SN and id that fail\n",
    "formatted_results = {\n",
    "    'id': [result['id'] for result in results_list],\n",
    "    'serial_number': [result['serial_number'] for result in results_list],\n",
    "    'status': [result['status']['status_type'] for result in results_list],\n",
    "    'started_at': [result['started_at'] for result in results_list]\n",
    "}\n",
    "df_results = pd.DataFrame.from_dict(formatted_results)\n",
    "df_results_unique = df_results.groupby('serial_number').last().reset_index()\n",
    "df_results_unique = df_results_unique.loc[df_results_unique['status'] == \"FAILED\"].reset_index(drop=True)\n",
    "\n",
    "\n",
    "result_ids = []\n",
    "steps = []\n",
    "if results:\n",
    "    steps_filter = ''\n",
    "    for index,result in enumerate (df_results_unique['id']):\n",
    "        if steps_filter != '':\n",
    "            steps_filter += ' || '\n",
    "        steps_filter += 'resultId == \"' + df_results_unique['id'][index] + '\"' \n",
    "\n",
    "    if steps_filter:\n",
    "        steps_filter = f'status.statusType == \"FAILED\" && ({steps_filter})'\n",
    "    else:\n",
    "        steps_filter = 'status.statusType == \"FAILED\"'\n",
    "\n",
    "    steps_query = testmon.StepsAdvancedQuery(\n",
    "        steps_filter, order_by=testmon.StepField.STARTED_AT, take=1000\n",
    "    )\n",
    "    steps = await perform_batched_query(steps_api.query_steps_v2, steps_query, 'steps')\n",
    "\n",
    "steps_list = [step.to_dict() for step in steps]\n",
    "\n",
    "#display(steps_list)"
   ]
  },
  {
   "cell_type": "markdown",
   "metadata": {},
   "source": [
    "### Get group names\n",
    "Collect the group name for each result based on the `group_by` parameter."
   ]
  },
  {
   "cell_type": "code",
   "execution_count": 6,
   "metadata": {},
   "outputs": [],
   "source": [
    "group_names = []\n",
    "for step in steps_list:\n",
    "    if grouping in step:\n",
    "        group_names.append(step[grouping])"
   ]
  },
  {
   "cell_type": "markdown",
   "metadata": {},
   "source": [
    "### Create pandas dataframe\n",
    "Put the data into a dataframe whose columns are test result id, status, and group name."
   ]
  },
  {
   "cell_type": "code",
   "execution_count": 14,
   "metadata": {},
   "outputs": [
    {
     "data": {
      "text/html": [
       "<div>\n",
       "<style scoped>\n",
       "    .dataframe tbody tr th:only-of-type {\n",
       "        vertical-align: middle;\n",
       "    }\n",
       "\n",
       "    .dataframe tbody tr th {\n",
       "        vertical-align: top;\n",
       "    }\n",
       "\n",
       "    .dataframe thead th {\n",
       "        text-align: right;\n",
       "    }\n",
       "</style>\n",
       "<table border=\"1\" class=\"dataframe\">\n",
       "  <thead>\n",
       "    <tr style=\"text-align: right;\">\n",
       "      <th></th>\n",
       "      <th>id</th>\n",
       "      <th>parent_id</th>\n",
       "      <th>status</th>\n",
       "      <th>path</th>\n",
       "    </tr>\n",
       "  </thead>\n",
       "  <tbody>\n",
       "    <tr>\n",
       "      <th>0</th>\n",
       "      <td>60d15548ca744a3c64c03f22</td>\n",
       "      <td>60d15548ca744a3c64c03f14</td>\n",
       "      <td>FAILED</td>\n",
       "      <td>Delta\\nDelta.S5 (T1-T2)</td>\n",
       "    </tr>\n",
       "    <tr>\n",
       "      <th>1</th>\n",
       "      <td>60d15549ca744a3c64c03f2e</td>\n",
       "      <td>60d15545ca744a3c64c03ed5</td>\n",
       "      <td>FAILED</td>\n",
       "      <td>Algorithm Result</td>\n",
       "    </tr>\n",
       "    <tr>\n",
       "      <th>2</th>\n",
       "      <td>60d15d55ca744a3c64c050ed</td>\n",
       "      <td>60d15d54ca744a3c64c050df</td>\n",
       "      <td>FAILED</td>\n",
       "      <td>Delta\\nDelta.S5 (T1-T2)</td>\n",
       "    </tr>\n",
       "    <tr>\n",
       "      <th>3</th>\n",
       "      <td>60d15d55ca744a3c64c050f9</td>\n",
       "      <td>60d15d50ca744a3c64c050a0</td>\n",
       "      <td>FAILED</td>\n",
       "      <td>Algorithm Result</td>\n",
       "    </tr>\n",
       "    <tr>\n",
       "      <th>6</th>\n",
       "      <td>206071</td>\n",
       "      <td>190561</td>\n",
       "      <td>FAILED</td>\n",
       "      <td>Call Product TSM\\n3.9 - TD Frequency Test</td>\n",
       "    </tr>\n",
       "    <tr>\n",
       "      <th>...</th>\n",
       "      <td>...</td>\n",
       "      <td>...</td>\n",
       "      <td>...</td>\n",
       "      <td>...</td>\n",
       "    </tr>\n",
       "    <tr>\n",
       "      <th>328</th>\n",
       "      <td>60d28841ca744a3c64c12589</td>\n",
       "      <td>60d2883cca744a3c64c12530</td>\n",
       "      <td>FAILED</td>\n",
       "      <td>Algorithm Result</td>\n",
       "    </tr>\n",
       "    <tr>\n",
       "      <th>329</th>\n",
       "      <td>60d2884dca744a3c64c12655</td>\n",
       "      <td>60d2884cca744a3c64c12647</td>\n",
       "      <td>FAILED</td>\n",
       "      <td>Delta\\nDelta.S5 (T1-T2)</td>\n",
       "    </tr>\n",
       "    <tr>\n",
       "      <th>330</th>\n",
       "      <td>60d2884dca744a3c64c12661</td>\n",
       "      <td>60d28849ca744a3c64c12608</td>\n",
       "      <td>FAILED</td>\n",
       "      <td>Algorithm Result</td>\n",
       "    </tr>\n",
       "    <tr>\n",
       "      <th>331</th>\n",
       "      <td>60d28858ca744a3c64c1272d</td>\n",
       "      <td>60d28857ca744a3c64c1271f</td>\n",
       "      <td>FAILED</td>\n",
       "      <td>Delta\\nDelta.S5 (T1-T2)</td>\n",
       "    </tr>\n",
       "    <tr>\n",
       "      <th>332</th>\n",
       "      <td>60d28859ca744a3c64c12739</td>\n",
       "      <td>60d28854ca744a3c64c126e0</td>\n",
       "      <td>FAILED</td>\n",
       "      <td>Algorithm Result</td>\n",
       "    </tr>\n",
       "  </tbody>\n",
       "</table>\n",
       "<p>129 rows × 4 columns</p>\n",
       "</div>"
      ],
      "text/plain": [
       "                           id                 parent_id  status  \\\n",
       "0    60d15548ca744a3c64c03f22  60d15548ca744a3c64c03f14  FAILED   \n",
       "1    60d15549ca744a3c64c03f2e  60d15545ca744a3c64c03ed5  FAILED   \n",
       "2    60d15d55ca744a3c64c050ed  60d15d54ca744a3c64c050df  FAILED   \n",
       "3    60d15d55ca744a3c64c050f9  60d15d50ca744a3c64c050a0  FAILED   \n",
       "6                      206071                    190561  FAILED   \n",
       "..                        ...                       ...     ...   \n",
       "328  60d28841ca744a3c64c12589  60d2883cca744a3c64c12530  FAILED   \n",
       "329  60d2884dca744a3c64c12655  60d2884cca744a3c64c12647  FAILED   \n",
       "330  60d2884dca744a3c64c12661  60d28849ca744a3c64c12608  FAILED   \n",
       "331  60d28858ca744a3c64c1272d  60d28857ca744a3c64c1271f  FAILED   \n",
       "332  60d28859ca744a3c64c12739  60d28854ca744a3c64c126e0  FAILED   \n",
       "\n",
       "                                          path  \n",
       "0                      Delta\\nDelta.S5 (T1-T2)  \n",
       "1                             Algorithm Result  \n",
       "2                      Delta\\nDelta.S5 (T1-T2)  \n",
       "3                             Algorithm Result  \n",
       "6    Call Product TSM\\n3.9 - TD Frequency Test  \n",
       "..                                         ...  \n",
       "328                           Algorithm Result  \n",
       "329                    Delta\\nDelta.S5 (T1-T2)  \n",
       "330                           Algorithm Result  \n",
       "331                    Delta\\nDelta.S5 (T1-T2)  \n",
       "332                           Algorithm Result  \n",
       "\n",
       "[129 rows x 4 columns]"
      ]
     },
     "metadata": {},
     "output_type": "display_data"
    }
   ],
   "source": [
    "formatted_results = {\n",
    "    'id': [step['step_id'] for step in steps_list],\n",
    "    'parent_id': [step['parent_id'] for step in steps_list],\n",
    "    'status': [step['status']['status_type'] if step['status'] else None for step in steps_list],\n",
    "    grouping: group_names\n",
    "}\n",
    "\n",
    "df_results = pd.DataFrame.from_dict(formatted_results)\n",
    "df_parent_ids = df_results[['parent_id']].copy().drop_duplicates()\n",
    "df_results = df_results[~df_results['id'].isin(df_parent_ids['parent_id'])]\n",
    "if df_results['path'].any():\n",
    "    df_results['path'] = df_results['path'].str.replace(r'^root\\.MainSequence Callback\\.|^root\\.', '')\n",
    "    df_results['path'] = df_results['path'].str.partition('\\n')[2]\n",
    "    \n",
    "display(df_results)"
   ]
  },
  {
   "cell_type": "markdown",
   "metadata": {},
   "source": [
    "### Aggregate results into groups\n",
    "Aggregate the data for each unique group and status.\n",
    "\n",
    "*See documentation for [size](https://pandas.pydata.org/pandas-docs/stable/generated/pandas.DataFrame.size.html) and [unstack](https://pandas.pydata.org/pandas-docs/stable/generated/pandas.DataFrame.unstack.html) here.*"
   ]
  },
  {
   "cell_type": "code",
   "execution_count": 8,
   "metadata": {},
   "outputs": [],
   "source": [
    "df_results.fillna(value='', inplace=True)\n",
    "df_grouped = df_results.groupby([grouping, 'status']).size().unstack(fill_value=0)\n",
    "if 'PASSED' not in df_grouped:\n",
    "    df_grouped['PASSED'] = 0\n",
    "if 'FAILED' not in df_grouped:\n",
    "    df_grouped['FAILED'] = 0\n",
    "if 'ERRORED' not in df_grouped:\n",
    "    df_grouped['ERRORED'] = 0"
   ]
  },
  {
   "cell_type": "markdown",
   "metadata": {},
   "source": [
    "### Failure Pareto calculation\n",
    "Count the number of test step failures and calculate cumulative values for the pareto."
   ]
  },
  {
   "cell_type": "code",
   "execution_count": 9,
   "metadata": {},
   "outputs": [],
   "source": [
    "df_fail_count = pd.DataFrame(df_grouped['FAILED'] + df_grouped['ERRORED'])\n",
    "if grouping != 'started_at':\n",
    "    df_fail_count.sort_values(by=[0], ascending=False, inplace=True)\n",
    "total = df_fail_count[0].sum()\n",
    "pareto_values = []\n",
    "cumulative = 0\n",
    "for data_member in df_fail_count[0]:\n",
    "    cumulative += data_member\n",
    "    pareto_values.append(100 * (cumulative / total))\n",
    "df_fail_count = df_fail_count[df_fail_count[0] != 0]\n",
    "\n",
    "df_pareto = df_fail_count.reset_index().set_axis([grouping, 'fail_count'], axis=1)\n",
    "df_pareto['cumulative'] = pareto_values"
   ]
  },
  {
   "cell_type": "markdown",
   "metadata": {},
   "source": [
    "### Convert the dataframe to the SystemLink reports output format\n",
    "The result format for a SystemLink report consists of a list of output objects as defined below:\n",
    "- `type`: The type of the output. Accepted values are 'data_frame' and 'scalar'.\n",
    "- `id`: Corresponds to the id specified in the 'output' metadata. Used for returning multiple outputs with the 'V2' report format.\n",
    "- `data`: A dict representing the 'data_frame' type output data.\n",
    "    - `columns`: A list of dicts containing the names and data type for each column in the dataframe.\n",
    "    - `values`: A list of lists containing the dataframe values. The sublists are ordered according to the 'columns' configuration.\n",
    "- `value`: The value returned for the 'scalar' output type.\n",
    "- `config`: The configurations for the given output.\n",
    "    - `title`: The output title.\n",
    "    - `graph`: The graph configurations.\n",
    "        - `axis_labels`: The x-axis label and y-axis label.\n",
    "        - `plots`: A list of plots to display mapped from the dataframe's columns, along with configuration options.\n",
    "            - `x`: The dataframe column corresponding to the x-axis values.\n",
    "            - `y`: The dataframe column corresponding to the y-axis values.\n",
    "            - `style`: The plot's style. Accepted values are ['LINE', 'BAR', 'SCATTER'].\n",
    "            - `color`: The plot's color. Accepted formats are ['blue', '#0000ff', 'rbg(0,0,255)'].\n",
    "            - `label`: The plot's name, to be shown in a plot legend. \n",
    "            - `secondary_y`: Whether or not to display this plot on a second y-axis.\n",
    "            - `group_by`: A list of columns in the dataframe on which to group data, e.g. to color individual points.\n",
    "        - `orientation`: 'HORIZONTAL' or 'VERTICAL'.\n",
    "        - `stacked`: Whether or not to display the plots stacked on top of each other.\n",
    "\n",
    "Here is an example of a notebook result with two outputs, one of which is a dataframe with two columns, and the other is a scalar value:\n",
    "```\n",
    "[{\n",
    "    'type': 'data_frame',\n",
    "    'id': 'output_id_1',\n",
    "    'data': {\n",
    "        'columns': [\n",
    "            {'name': 'time', 'type': 'datetime'},\n",
    "            {'name': 'value', 'type': 'number'}\n",
    "         ],\n",
    "        'values': [\n",
    "            ['2020-09-29T00:00:00.000Z', 46.1538461538],\n",
    "            ['2020-09-30T00:00:00.000Z', 63.1578947368],\n",
    "            ...\n",
    "         ]\n",
    "    },\n",
    "    'config': {\n",
    "        'title': 'My Title',\n",
    "        'graph': {\n",
    "            'axis_labels': ['X Axis', 'Y Axis'],\n",
    "            'orientation': 'VERTICAL',\n",
    "            'plots': [\n",
    "                {'x': 'time', 'y': 'value', 'style': 'BAR', 'color': '#0000ff', 'label': 'Plot 1'}\n",
    "            ]\n",
    "        }\n",
    "    }\n",
    "}, {\n",
    "    'type': 'scalar',\n",
    "    'id': 'output_id_2',\n",
    "    'config': {\n",
    "        'title': 'My Title'\n",
    "    },\n",
    "    'value': 5\n",
    "}]\n",
    "```\n",
    "\n",
    "For this report, there is one output, which is a dataframe with three columns. The first column contains the group categories, which are the step paths by default. The second column contains failure counts, and the third column contains the cumulative totals as percents.\n",
    "\n",
    "| part_number | fail_count | cumulative |\n",
    "|-------------|------------|------------|\n",
    "| 151837H     | 102        | 34.459459  |\n",
    "| 154261F     | 98         | 67.567568  |\n",
    "| 193343E     | 96         | 100        |\n",
    "\n",
    "The graph configuration specifies two plots: A bar chart for the failure counts and a line chart for the cumulative percentage. We use Pandas to convert the dataframe built in the previous cells into a tabular format and then return that with the result object."
   ]
  },
  {
   "cell_type": "code",
   "execution_count": 10,
   "metadata": {},
   "outputs": [],
   "source": [
    "df_pareto[grouping].replace(r'^$', 'No ' + group_by, regex=True, inplace=True)\n",
    "\n",
    "df_dict = {\n",
    "    'columns': pd.io.json.build_table_schema(df_pareto, index=False)['fields'],\n",
    "    'values': df_pareto.values.tolist(),\n",
    "}\n",
    "\n",
    "pareto_graph = {\n",
    "    'type': 'data_frame',\n",
    "    'id': 'failure_pareto_steps_graph',\n",
    "    'data': df_dict,\n",
    "    'config': {\n",
    "        'title': 'Failure Pareto - Steps by {}'.format(group_by),\n",
    "        'graph': {\n",
    "            'axis_labels': [group_by, 'Failure Count', 'Cumulative %'],\n",
    "            'plots': [\n",
    "                {'x': grouping, 'y': 'fail_count', 'style': 'BAR', 'group_by': [grouping]},\n",
    "                {'x': grouping, 'y': 'cumulative', 'secondary_y': True, 'style': 'LINE'}\n",
    "            ],\n",
    "            'orientation': 'VERTICAL'\n",
    "        }\n",
    "    }\n",
    "}\n",
    "\n",
    "result = [pareto_graph]"
   ]
  },
  {
   "cell_type": "markdown",
   "metadata": {},
   "source": [
    "### Record results with Scrapbook"
   ]
  },
  {
   "cell_type": "code",
   "execution_count": 11,
   "metadata": {},
   "outputs": [
    {
     "data": {
      "application/scrapbook.scrap.json+json": {
       "data": [
        {
         "config": {
          "graph": {
           "axis_labels": [
            "Path",
            "Failure Count",
            "Cumulative %"
           ],
           "orientation": "VERTICAL",
           "plots": [
            {
             "group_by": [
              "path"
             ],
             "style": "BAR",
             "x": "path",
             "y": "fail_count"
            },
            {
             "secondary_y": true,
             "style": "LINE",
             "x": "path",
             "y": "cumulative"
            }
           ]
          },
          "title": "Failure Pareto - Steps by Path"
         },
         "data": {
          "columns": [
           {
            "name": "path",
            "type": "string"
           },
           {
            "name": "fail_count",
            "type": "integer"
           },
           {
            "name": "cumulative",
            "type": "number"
           }
          ],
          "values": [
           [
            "Algorithm Run Results\nAlgorithm Result",
            8,
            50
           ],
           [
            "Algorithm Run Results\nDelta\nDelta.S5 (T1-T2)",
            8,
            100
           ]
          ]
         },
         "id": "failure_pareto_steps_graph",
         "type": "data_frame"
        }
       ],
       "encoder": "json",
       "name": "result",
       "version": 1
      }
     },
     "metadata": {
      "scrapbook": {
       "data": true,
       "display": false,
       "name": "result"
      }
     },
     "output_type": "display_data"
    }
   ],
   "source": [
    "sb.glue('result', result)"
   ]
  },
  {
   "cell_type": "code",
   "execution_count": null,
   "metadata": {},
   "outputs": [],
   "source": []
  }
 ],
 "metadata": {
  "kernelspec": {
   "display_name": "Python 3",
   "language": "python",
   "name": "python3"
  },
  "language_info": {
   "codemirror_mode": {
    "name": "ipython",
    "version": 3
   },
   "file_extension": ".py",
   "mimetype": "text/x-python",
   "name": "python",
   "nbconvert_exporter": "python",
   "pygments_lexer": "ipython3",
   "version": "3.8.5"
  }
 },
 "nbformat": 4,
 "nbformat_minor": 4
}
