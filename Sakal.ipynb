{
 "cells": [
  {
   "cell_type": "code",
   "execution_count": 1,
   "id": "a7fc7e72",
   "metadata": {},
   "outputs": [],
   "source": [
    "import copy\n",
    "import datetime\n",
    "import pandas as pd\n",
    "import scrapbook as sb\n",
    "from dateutil import tz\n",
    "\n",
    "import systemlink.clients.nitestmonitor as testmon"
   ]
  },
  {
   "cell_type": "code",
   "execution_count": 2,
   "id": "5f653de9",
   "metadata": {},
   "outputs": [],
   "source": [
    "results_api = testmon.ResultsApi()"
   ]
  },
  {
   "cell_type": "code",
   "execution_count": 3,
   "id": "f4726664",
   "metadata": {},
   "outputs": [],
   "source": [
    "results_filter = 'startedWithin <= \"1.0:0:0\"'\n",
    "products_filter = ''"
   ]
  },
  {
   "cell_type": "code",
   "execution_count": 4,
   "id": "5ff7801b",
   "metadata": {},
   "outputs": [],
   "source": [
    "results_query = testmon.ResultsAdvancedQuery(\n",
    "    results_filter, product_filter=products_filter, order_by=testmon.ResultField.STARTED_AT)\n",
    "\n",
    "results = []\n",
    "\n",
    "response = await results_api.query_results_v2(post_body=results_query)\n",
    "while response.continuation_token:\n",
    "    results = results + response.results\n",
    "    results_query.continuation_token = response.continuation_token\n",
    "    response = await results_api.query_results_v2(post_body=results_query)\n",
    "\n",
    "results_list = [result.to_dict() for result in results]"
   ]
  },
  {
   "cell_type": "code",
   "execution_count": 5,
   "id": "f99958ba",
   "metadata": {},
   "outputs": [],
   "source": [
    "formatted_results = {\n",
    "    'status': [result['status']['status_type'] for result in results_list],\n",
    "    'started_at': [result['started_at'] for result in results_list],\n",
    "    'location': [result['properties']['Location'] for result in results_list]\n",
    "}"
   ]
  },
  {
   "cell_type": "code",
   "execution_count": 6,
   "id": "b8bab8e8",
   "metadata": {},
   "outputs": [],
   "source": [
    "df = pd.DataFrame.from_dict(formatted_results)"
   ]
  },
  {
   "cell_type": "code",
   "execution_count": 7,
   "id": "881920d7",
   "metadata": {},
   "outputs": [
    {
     "data": {
      "text/html": [
       "<div>\n",
       "<style scoped>\n",
       "    .dataframe tbody tr th:only-of-type {\n",
       "        vertical-align: middle;\n",
       "    }\n",
       "\n",
       "    .dataframe tbody tr th {\n",
       "        vertical-align: top;\n",
       "    }\n",
       "\n",
       "    .dataframe thead th {\n",
       "        text-align: right;\n",
       "    }\n",
       "</style>\n",
       "<table border=\"1\" class=\"dataframe\">\n",
       "  <thead>\n",
       "    <tr style=\"text-align: right;\">\n",
       "      <th></th>\n",
       "      <th>status</th>\n",
       "      <th>started_at</th>\n",
       "      <th>location</th>\n",
       "    </tr>\n",
       "  </thead>\n",
       "  <tbody>\n",
       "    <tr>\n",
       "      <th>0</th>\n",
       "      <td>FAILED</td>\n",
       "      <td>2022-02-20 20:37:07.082217+00:00</td>\n",
       "      <td>EPL-AR1-Line 1</td>\n",
       "    </tr>\n",
       "    <tr>\n",
       "      <th>1</th>\n",
       "      <td>PASSED</td>\n",
       "      <td>2022-02-20 20:37:09.972302+00:00</td>\n",
       "      <td>EPL-AR1-Line 1</td>\n",
       "    </tr>\n",
       "    <tr>\n",
       "      <th>2</th>\n",
       "      <td>PASSED</td>\n",
       "      <td>2022-02-20 20:37:14.651153+00:00</td>\n",
       "      <td>EPL-AR1-Line 1</td>\n",
       "    </tr>\n",
       "    <tr>\n",
       "      <th>3</th>\n",
       "      <td>PASSED</td>\n",
       "      <td>2022-02-20 20:37:16.510815+00:00</td>\n",
       "      <td>EPL-AR1-Line 1</td>\n",
       "    </tr>\n",
       "    <tr>\n",
       "      <th>4</th>\n",
       "      <td>PASSED</td>\n",
       "      <td>2022-02-20 20:37:22.849411+00:00</td>\n",
       "      <td>EPL-AR1-Line 1</td>\n",
       "    </tr>\n",
       "    <tr>\n",
       "      <th>...</th>\n",
       "      <td>...</td>\n",
       "      <td>...</td>\n",
       "      <td>...</td>\n",
       "    </tr>\n",
       "    <tr>\n",
       "      <th>20237</th>\n",
       "      <td>PASSED</td>\n",
       "      <td>2022-02-21 03:51:12.067413+00:00</td>\n",
       "      <td>EPL-AR2-Line 3</td>\n",
       "    </tr>\n",
       "    <tr>\n",
       "      <th>20238</th>\n",
       "      <td>PASSED</td>\n",
       "      <td>2022-02-21 03:51:24.121739+00:00</td>\n",
       "      <td>EPL-AR2-Line 3</td>\n",
       "    </tr>\n",
       "    <tr>\n",
       "      <th>20239</th>\n",
       "      <td>RUNNING</td>\n",
       "      <td>2022-02-21 03:51:27.042493+00:00</td>\n",
       "      <td>EPL-AR2-Line 3</td>\n",
       "    </tr>\n",
       "    <tr>\n",
       "      <th>20240</th>\n",
       "      <td>RUNNING</td>\n",
       "      <td>2022-02-21 03:51:33.564253+00:00</td>\n",
       "      <td>EPL-AR2-Line 3</td>\n",
       "    </tr>\n",
       "    <tr>\n",
       "      <th>20241</th>\n",
       "      <td>RUNNING</td>\n",
       "      <td>2022-02-21 03:51:37.644924+00:00</td>\n",
       "      <td>EPL-AR2-Line 3</td>\n",
       "    </tr>\n",
       "  </tbody>\n",
       "</table>\n",
       "<p>20242 rows × 3 columns</p>\n",
       "</div>"
      ],
      "text/plain": [
       "        status                       started_at        location\n",
       "0       FAILED 2022-02-20 20:37:07.082217+00:00  EPL-AR1-Line 1\n",
       "1       PASSED 2022-02-20 20:37:09.972302+00:00  EPL-AR1-Line 1\n",
       "2       PASSED 2022-02-20 20:37:14.651153+00:00  EPL-AR1-Line 1\n",
       "3       PASSED 2022-02-20 20:37:16.510815+00:00  EPL-AR1-Line 1\n",
       "4       PASSED 2022-02-20 20:37:22.849411+00:00  EPL-AR1-Line 1\n",
       "...        ...                              ...             ...\n",
       "20237   PASSED 2022-02-21 03:51:12.067413+00:00  EPL-AR2-Line 3\n",
       "20238   PASSED 2022-02-21 03:51:24.121739+00:00  EPL-AR2-Line 3\n",
       "20239  RUNNING 2022-02-21 03:51:27.042493+00:00  EPL-AR2-Line 3\n",
       "20240  RUNNING 2022-02-21 03:51:33.564253+00:00  EPL-AR2-Line 3\n",
       "20241  RUNNING 2022-02-21 03:51:37.644924+00:00  EPL-AR2-Line 3\n",
       "\n",
       "[20242 rows x 3 columns]"
      ]
     },
     "execution_count": 7,
     "metadata": {},
     "output_type": "execute_result"
    }
   ],
   "source": [
    "df"
   ]
  },
  {
   "cell_type": "code",
   "execution_count": 8,
   "id": "9167af6d",
   "metadata": {},
   "outputs": [],
   "source": [
    "filt = df['location'].str.contains('EPL')"
   ]
  },
  {
   "cell_type": "code",
   "execution_count": 9,
   "id": "3a2b51af",
   "metadata": {},
   "outputs": [],
   "source": [
    "df = df.loc[filt]"
   ]
  },
  {
   "cell_type": "code",
   "execution_count": 10,
   "id": "b580dbbe",
   "metadata": {},
   "outputs": [],
   "source": [
    "df = df.groupby(['location', 'status']).count()"
   ]
  },
  {
   "cell_type": "code",
   "execution_count": 11,
   "id": "db6f324f",
   "metadata": {},
   "outputs": [
    {
     "data": {
      "text/html": [
       "<div>\n",
       "<style scoped>\n",
       "    .dataframe tbody tr th:only-of-type {\n",
       "        vertical-align: middle;\n",
       "    }\n",
       "\n",
       "    .dataframe tbody tr th {\n",
       "        vertical-align: top;\n",
       "    }\n",
       "\n",
       "    .dataframe thead th {\n",
       "        text-align: right;\n",
       "    }\n",
       "</style>\n",
       "<table border=\"1\" class=\"dataframe\">\n",
       "  <thead>\n",
       "    <tr style=\"text-align: right;\">\n",
       "      <th></th>\n",
       "      <th></th>\n",
       "      <th>started_at</th>\n",
       "    </tr>\n",
       "    <tr>\n",
       "      <th>location</th>\n",
       "      <th>status</th>\n",
       "      <th></th>\n",
       "    </tr>\n",
       "  </thead>\n",
       "  <tbody>\n",
       "    <tr>\n",
       "      <th rowspan=\"3\" valign=\"top\">EPL-AR1-Line 1</th>\n",
       "      <th>FAILED</th>\n",
       "      <td>93</td>\n",
       "    </tr>\n",
       "    <tr>\n",
       "      <th>PASSED</th>\n",
       "      <td>2130</td>\n",
       "    </tr>\n",
       "    <tr>\n",
       "      <th>RUNNING</th>\n",
       "      <td>3</td>\n",
       "    </tr>\n",
       "    <tr>\n",
       "      <th rowspan=\"3\" valign=\"top\">EPL-AR1-Line 2</th>\n",
       "      <th>FAILED</th>\n",
       "      <td>111</td>\n",
       "    </tr>\n",
       "    <tr>\n",
       "      <th>PASSED</th>\n",
       "      <td>2226</td>\n",
       "    </tr>\n",
       "    <tr>\n",
       "      <th>RUNNING</th>\n",
       "      <td>4</td>\n",
       "    </tr>\n",
       "    <tr>\n",
       "      <th rowspan=\"3\" valign=\"top\">EPL-AR1-Line 5</th>\n",
       "      <th>FAILED</th>\n",
       "      <td>45</td>\n",
       "    </tr>\n",
       "    <tr>\n",
       "      <th>PASSED</th>\n",
       "      <td>1347</td>\n",
       "    </tr>\n",
       "    <tr>\n",
       "      <th>RUNNING</th>\n",
       "      <td>1</td>\n",
       "    </tr>\n",
       "    <tr>\n",
       "      <th rowspan=\"3\" valign=\"top\">EPL-AR1-Line 6</th>\n",
       "      <th>FAILED</th>\n",
       "      <td>16</td>\n",
       "    </tr>\n",
       "    <tr>\n",
       "      <th>PASSED</th>\n",
       "      <td>675</td>\n",
       "    </tr>\n",
       "    <tr>\n",
       "      <th>RUNNING</th>\n",
       "      <td>4</td>\n",
       "    </tr>\n",
       "    <tr>\n",
       "      <th rowspan=\"3\" valign=\"top\">EPL-AR2-Line 1</th>\n",
       "      <th>FAILED</th>\n",
       "      <td>202</td>\n",
       "    </tr>\n",
       "    <tr>\n",
       "      <th>PASSED</th>\n",
       "      <td>3204</td>\n",
       "    </tr>\n",
       "    <tr>\n",
       "      <th>RUNNING</th>\n",
       "      <td>2</td>\n",
       "    </tr>\n",
       "    <tr>\n",
       "      <th rowspan=\"3\" valign=\"top\">EPL-AR2-Line 2</th>\n",
       "      <th>FAILED</th>\n",
       "      <td>183</td>\n",
       "    </tr>\n",
       "    <tr>\n",
       "      <th>PASSED</th>\n",
       "      <td>3148</td>\n",
       "    </tr>\n",
       "    <tr>\n",
       "      <th>RUNNING</th>\n",
       "      <td>3</td>\n",
       "    </tr>\n",
       "    <tr>\n",
       "      <th rowspan=\"3\" valign=\"top\">EPL-AR2-Line 3</th>\n",
       "      <th>FAILED</th>\n",
       "      <td>105</td>\n",
       "    </tr>\n",
       "    <tr>\n",
       "      <th>PASSED</th>\n",
       "      <td>3462</td>\n",
       "    </tr>\n",
       "    <tr>\n",
       "      <th>RUNNING</th>\n",
       "      <td>3</td>\n",
       "    </tr>\n",
       "    <tr>\n",
       "      <th rowspan=\"3\" valign=\"top\">EPL-AR2-Line 4</th>\n",
       "      <th>FAILED</th>\n",
       "      <td>19</td>\n",
       "    </tr>\n",
       "    <tr>\n",
       "      <th>PASSED</th>\n",
       "      <td>1184</td>\n",
       "    </tr>\n",
       "    <tr>\n",
       "      <th>RUNNING</th>\n",
       "      <td>3</td>\n",
       "    </tr>\n",
       "    <tr>\n",
       "      <th rowspan=\"2\" valign=\"top\">EPL-AR2-Line 5</th>\n",
       "      <th>FAILED</th>\n",
       "      <td>97</td>\n",
       "    </tr>\n",
       "    <tr>\n",
       "      <th>PASSED</th>\n",
       "      <td>1942</td>\n",
       "    </tr>\n",
       "  </tbody>\n",
       "</table>\n",
       "</div>"
      ],
      "text/plain": [
       "                        started_at\n",
       "location       status             \n",
       "EPL-AR1-Line 1 FAILED           93\n",
       "               PASSED         2130\n",
       "               RUNNING           3\n",
       "EPL-AR1-Line 2 FAILED          111\n",
       "               PASSED         2226\n",
       "               RUNNING           4\n",
       "EPL-AR1-Line 5 FAILED           45\n",
       "               PASSED         1347\n",
       "               RUNNING           1\n",
       "EPL-AR1-Line 6 FAILED           16\n",
       "               PASSED          675\n",
       "               RUNNING           4\n",
       "EPL-AR2-Line 1 FAILED          202\n",
       "               PASSED         3204\n",
       "               RUNNING           2\n",
       "EPL-AR2-Line 2 FAILED          183\n",
       "               PASSED         3148\n",
       "               RUNNING           3\n",
       "EPL-AR2-Line 3 FAILED          105\n",
       "               PASSED         3462\n",
       "               RUNNING           3\n",
       "EPL-AR2-Line 4 FAILED           19\n",
       "               PASSED         1184\n",
       "               RUNNING           3\n",
       "EPL-AR2-Line 5 FAILED           97\n",
       "               PASSED         1942"
      ]
     },
     "execution_count": 11,
     "metadata": {},
     "output_type": "execute_result"
    }
   ],
   "source": [
    "df"
   ]
  },
  {
   "cell_type": "code",
   "execution_count": 12,
   "id": "aa53f16c",
   "metadata": {},
   "outputs": [],
   "source": [
    "df = df.unstack()"
   ]
  },
  {
   "cell_type": "code",
   "execution_count": 13,
   "id": "74a7f830",
   "metadata": {},
   "outputs": [
    {
     "data": {
      "text/html": [
       "<div>\n",
       "<style scoped>\n",
       "    .dataframe tbody tr th:only-of-type {\n",
       "        vertical-align: middle;\n",
       "    }\n",
       "\n",
       "    .dataframe tbody tr th {\n",
       "        vertical-align: top;\n",
       "    }\n",
       "\n",
       "    .dataframe thead tr th {\n",
       "        text-align: left;\n",
       "    }\n",
       "\n",
       "    .dataframe thead tr:last-of-type th {\n",
       "        text-align: right;\n",
       "    }\n",
       "</style>\n",
       "<table border=\"1\" class=\"dataframe\">\n",
       "  <thead>\n",
       "    <tr>\n",
       "      <th></th>\n",
       "      <th colspan=\"3\" halign=\"left\">started_at</th>\n",
       "    </tr>\n",
       "    <tr>\n",
       "      <th>status</th>\n",
       "      <th>FAILED</th>\n",
       "      <th>PASSED</th>\n",
       "      <th>RUNNING</th>\n",
       "    </tr>\n",
       "    <tr>\n",
       "      <th>location</th>\n",
       "      <th></th>\n",
       "      <th></th>\n",
       "      <th></th>\n",
       "    </tr>\n",
       "  </thead>\n",
       "  <tbody>\n",
       "    <tr>\n",
       "      <th>EPL-AR1-Line 1</th>\n",
       "      <td>93.0</td>\n",
       "      <td>2130.0</td>\n",
       "      <td>3.0</td>\n",
       "    </tr>\n",
       "    <tr>\n",
       "      <th>EPL-AR1-Line 2</th>\n",
       "      <td>111.0</td>\n",
       "      <td>2226.0</td>\n",
       "      <td>4.0</td>\n",
       "    </tr>\n",
       "    <tr>\n",
       "      <th>EPL-AR1-Line 5</th>\n",
       "      <td>45.0</td>\n",
       "      <td>1347.0</td>\n",
       "      <td>1.0</td>\n",
       "    </tr>\n",
       "    <tr>\n",
       "      <th>EPL-AR1-Line 6</th>\n",
       "      <td>16.0</td>\n",
       "      <td>675.0</td>\n",
       "      <td>4.0</td>\n",
       "    </tr>\n",
       "    <tr>\n",
       "      <th>EPL-AR2-Line 1</th>\n",
       "      <td>202.0</td>\n",
       "      <td>3204.0</td>\n",
       "      <td>2.0</td>\n",
       "    </tr>\n",
       "    <tr>\n",
       "      <th>EPL-AR2-Line 2</th>\n",
       "      <td>183.0</td>\n",
       "      <td>3148.0</td>\n",
       "      <td>3.0</td>\n",
       "    </tr>\n",
       "    <tr>\n",
       "      <th>EPL-AR2-Line 3</th>\n",
       "      <td>105.0</td>\n",
       "      <td>3462.0</td>\n",
       "      <td>3.0</td>\n",
       "    </tr>\n",
       "    <tr>\n",
       "      <th>EPL-AR2-Line 4</th>\n",
       "      <td>19.0</td>\n",
       "      <td>1184.0</td>\n",
       "      <td>3.0</td>\n",
       "    </tr>\n",
       "    <tr>\n",
       "      <th>EPL-AR2-Line 5</th>\n",
       "      <td>97.0</td>\n",
       "      <td>1942.0</td>\n",
       "      <td>NaN</td>\n",
       "    </tr>\n",
       "  </tbody>\n",
       "</table>\n",
       "</div>"
      ],
      "text/plain": [
       "               started_at                \n",
       "status             FAILED  PASSED RUNNING\n",
       "location                                 \n",
       "EPL-AR1-Line 1       93.0  2130.0     3.0\n",
       "EPL-AR1-Line 2      111.0  2226.0     4.0\n",
       "EPL-AR1-Line 5       45.0  1347.0     1.0\n",
       "EPL-AR1-Line 6       16.0   675.0     4.0\n",
       "EPL-AR2-Line 1      202.0  3204.0     2.0\n",
       "EPL-AR2-Line 2      183.0  3148.0     3.0\n",
       "EPL-AR2-Line 3      105.0  3462.0     3.0\n",
       "EPL-AR2-Line 4       19.0  1184.0     3.0\n",
       "EPL-AR2-Line 5       97.0  1942.0     NaN"
      ]
     },
     "execution_count": 13,
     "metadata": {},
     "output_type": "execute_result"
    }
   ],
   "source": [
    "df"
   ]
  },
  {
   "cell_type": "code",
   "execution_count": 14,
   "id": "7725c35a",
   "metadata": {},
   "outputs": [],
   "source": [
    "columns = []"
   ]
  },
  {
   "cell_type": "code",
   "execution_count": 15,
   "id": "3a663256",
   "metadata": {},
   "outputs": [],
   "source": [
    "for column in df.columns:\n",
    "    columns.append(column[1].lower())"
   ]
  },
  {
   "cell_type": "code",
   "execution_count": 16,
   "id": "d130f26c",
   "metadata": {},
   "outputs": [
    {
     "data": {
      "text/plain": [
       "['failed', 'passed', 'running']"
      ]
     },
     "execution_count": 16,
     "metadata": {},
     "output_type": "execute_result"
    }
   ],
   "source": [
    "columns"
   ]
  },
  {
   "cell_type": "code",
   "execution_count": 17,
   "id": "6f272a78",
   "metadata": {},
   "outputs": [],
   "source": [
    "df.columns = columns"
   ]
  },
  {
   "cell_type": "code",
   "execution_count": 18,
   "id": "12ae1846",
   "metadata": {},
   "outputs": [],
   "source": [
    "df.fillna(0, inplace=True)"
   ]
  },
  {
   "cell_type": "code",
   "execution_count": 19,
   "id": "4871fd63",
   "metadata": {},
   "outputs": [],
   "source": [
    "total_tested = 0"
   ]
  },
  {
   "cell_type": "code",
   "execution_count": 20,
   "id": "6ca402c2",
   "metadata": {},
   "outputs": [],
   "source": [
    "for column in columns:\n",
    "    total_tested += df[column]"
   ]
  },
  {
   "cell_type": "code",
   "execution_count": 21,
   "id": "8c28cc93",
   "metadata": {},
   "outputs": [],
   "source": [
    "df['pass_rate'] = df['passed'] / (df['passed'] + df['failed'] + df['running'] * 100)"
   ]
  },
  {
   "cell_type": "code",
   "execution_count": 22,
   "id": "3f74427f",
   "metadata": {},
   "outputs": [],
   "source": [
    "df.reset_index(inplace=True)"
   ]
  },
  {
   "cell_type": "code",
   "execution_count": 23,
   "id": "289da9c5",
   "metadata": {},
   "outputs": [],
   "source": [
    "df_dict = {\n",
    "    'columns': pd.io.json.build_table_schema(df, index=False)['fields'],\n",
    "    'values': df.values.tolist(),\n",
    "}\n",
    "\n",
    "pass_rate = {\n",
    "    'type': 'data_frame',\n",
    "    'id': 'results_graph',\n",
    "    'data': df_dict\n",
    "}"
   ]
  },
  {
   "cell_type": "code",
   "execution_count": 24,
   "id": "ec6e6804",
   "metadata": {},
   "outputs": [],
   "source": [
    "result = [pass_rate]"
   ]
  },
  {
   "cell_type": "code",
   "execution_count": 25,
   "id": "1f9e5ad0",
   "metadata": {},
   "outputs": [
    {
     "data": {
      "application/scrapbook.scrap.json+json": {
       "data": [
        {
         "data": {
          "columns": [
           {
            "name": "location",
            "type": "string"
           },
           {
            "name": "failed",
            "type": "number"
           },
           {
            "name": "passed",
            "type": "number"
           },
           {
            "name": "running",
            "type": "number"
           },
           {
            "name": "pass_rate",
            "type": "number"
           }
          ],
          "values": [
           [
            "EPL-AR1-Line 1",
            93,
            2130,
            3,
            0.8442330558858502
           ],
           [
            "EPL-AR1-Line 2",
            111,
            2226,
            4,
            0.8132992327365729
           ],
           [
            "EPL-AR1-Line 5",
            45,
            1347,
            1,
            0.9028150134048257
           ],
           [
            "EPL-AR1-Line 6",
            16,
            675,
            4,
            0.618698441796517
           ],
           [
            "EPL-AR2-Line 1",
            202,
            3204,
            2,
            0.8885191347753744
           ],
           [
            "EPL-AR2-Line 2",
            183,
            3148,
            3,
            0.866978793720738
           ],
           [
            "EPL-AR2-Line 3",
            105,
            3462,
            3,
            0.8952676493405741
           ],
           [
            "EPL-AR2-Line 4",
            19,
            1184,
            3,
            0.7877578176979375
           ],
           [
            "EPL-AR2-Line 5",
            97,
            1942,
            0,
            0.9524276606179499
           ]
          ]
         },
         "type": "data_frame"
        }
       ],
       "encoder": "json",
       "name": "result",
       "version": 1
      }
     },
     "metadata": {
      "scrapbook": {
       "data": true,
       "display": false,
       "name": "result"
      }
     },
     "output_type": "display_data"
    }
   ],
   "source": [
    "sb.glue('result', result)"
   ]
  },
  {
   "cell_type": "code",
   "execution_count": 26,
   "id": "35d2b68a",
   "metadata": {},
   "outputs": [
    {
     "data": {
      "text/plain": [
       "[{'type': 'data_frame',\n",
       "  'data': {'columns': [{'name': 'location', 'type': 'string'},\n",
       "    {'name': 'failed', 'type': 'number'},\n",
       "    {'name': 'passed', 'type': 'number'},\n",
       "    {'name': 'running', 'type': 'number'},\n",
       "    {'name': 'pass_rate', 'type': 'number'}],\n",
       "   'values': [['EPL-AR1-Line 1', 93.0, 2130.0, 3.0, 0.8442330558858502],\n",
       "    ['EPL-AR1-Line 2', 111.0, 2226.0, 4.0, 0.8132992327365729],\n",
       "    ['EPL-AR1-Line 5', 45.0, 1347.0, 1.0, 0.9028150134048257],\n",
       "    ['EPL-AR1-Line 6', 16.0, 675.0, 4.0, 0.618698441796517],\n",
       "    ['EPL-AR2-Line 1', 202.0, 3204.0, 2.0, 0.8885191347753744],\n",
       "    ['EPL-AR2-Line 2', 183.0, 3148.0, 3.0, 0.866978793720738],\n",
       "    ['EPL-AR2-Line 3', 105.0, 3462.0, 3.0, 0.8952676493405741],\n",
       "    ['EPL-AR2-Line 4', 19.0, 1184.0, 3.0, 0.7877578176979375],\n",
       "    ['EPL-AR2-Line 5', 97.0, 1942.0, 0.0, 0.9524276606179499]]}}]"
      ]
     },
     "execution_count": 26,
     "metadata": {},
     "output_type": "execute_result"
    }
   ],
   "source": [
    "result"
   ]
  },
  {
   "cell_type": "code",
   "execution_count": null,
   "id": "e92eef86",
   "metadata": {},
   "outputs": [],
   "source": []
  }
 ],
 "metadata": {
  "kernelspec": {
   "display_name": "Python 3",
   "language": "python",
   "name": "python3"
  },
  "language_info": {
   "codemirror_mode": {
    "name": "ipython",
    "version": 3
   },
   "file_extension": ".py",
   "mimetype": "text/x-python",
   "name": "python",
   "nbconvert_exporter": "python",
   "pygments_lexer": "ipython3",
   "version": "3.8.5"
  }
 },
 "nbformat": 4,
 "nbformat_minor": 5
}
